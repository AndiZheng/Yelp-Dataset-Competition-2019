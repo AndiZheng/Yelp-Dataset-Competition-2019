{
 "cells": [
  {
   "cell_type": "code",
   "execution_count": 1,
   "metadata": {},
   "outputs": [],
   "source": [
    "import pyspark as spark\n",
    "from pyspark import SparkConf, SparkContext\n",
    "from pyspark.sql import SparkSession\n",
    "spark = SparkSession \\\n",
    "    .builder \\\n",
    "    .appName('example')\\\n",
    "    .config('spark.some.config.option','some-value') \\\n",
    "    .getOrCreate()"
   ]
  },
  {
   "cell_type": "code",
   "execution_count": 2,
   "metadata": {},
   "outputs": [],
   "source": [
    "review = spark.read.json('review.json')"
   ]
  },
  {
   "cell_type": "code",
   "execution_count": 3,
   "metadata": {},
   "outputs": [
    {
     "name": "stdout",
     "output_type": "stream",
     "text": [
      "+--------------------+----+-------------------+-----+--------------------+-----+--------------------+------+--------------------+\n",
      "|         business_id|cool|               date|funny|           review_id|stars|                text|useful|             user_id|\n",
      "+--------------------+----+-------------------+-----+--------------------+-----+--------------------+------+--------------------+\n",
      "|ujmEBvifdJM6h6RLv...|   0|2013-05-07 04:34:36|    1|Q1sbwvVQXV2734tPg...|  1.0|Total bill for th...|     6|hG7b0MtEbXx5QzbzE...|\n",
      "|NZnhc2sEQy3RmzKTZ...|   0|2017-01-14 21:30:33|    0|GJXCdrto3ASJOqKeV...|  5.0|I *adore* Travis ...|     0|yXQM5uF2jS6es16SJ...|\n",
      "|WTqjgwHlXbSFevF32...|   0|2016-11-09 20:09:03|    0|2TzJjDVDEuAW6MR5V...|  5.0|I have to say tha...|     3|n6-Gk65cPZL6Uz8qR...|\n",
      "|ikCg8xy5JIg_NGPx-...|   0|2018-01-09 20:56:38|    0|yi0R0Ugj_xUx_Nek0...|  5.0|Went in for a lun...|     0|dacAIZ6fTM6mqwW5u...|\n",
      "|b1b1eb3uo-w561D0Z...|   0|2018-01-30 23:07:38|    0|11a8sVPMUFtaC7_AB...|  1.0|Today was my seco...|     7|ssoyf2_x0EQMed6fg...|\n",
      "+--------------------+----+-------------------+-----+--------------------+-----+--------------------+------+--------------------+\n",
      "only showing top 5 rows\n",
      "\n"
     ]
    }
   ],
   "source": [
    "review.show(5)"
   ]
  },
  {
   "cell_type": "code",
   "execution_count": 5,
   "metadata": {},
   "outputs": [],
   "source": [
    "review_text = review.select('text')"
   ]
  },
  {
   "cell_type": "code",
   "execution_count": 6,
   "metadata": {},
   "outputs": [
    {
     "name": "stdout",
     "output_type": "stream",
     "text": [
      "+--------------------+\n",
      "|                text|\n",
      "+--------------------+\n",
      "|Total bill for th...|\n",
      "|I *adore* Travis ...|\n",
      "|I have to say tha...|\n",
      "|Went in for a lun...|\n",
      "|Today was my seco...|\n",
      "+--------------------+\n",
      "only showing top 5 rows\n",
      "\n"
     ]
    }
   ],
   "source": [
    "review_text.show(5)#先用sql join table 然后filter出tip大于20的pair/df join 然后转换成rdd map"
   ]
  },
  {
   "cell_type": "code",
   "execution_count": 2,
   "metadata": {},
   "outputs": [],
   "source": [
    "tip = spark.read.json('tip.json')"
   ]
  },
  {
   "cell_type": "code",
   "execution_count": 8,
   "metadata": {},
   "outputs": [
    {
     "name": "stdout",
     "output_type": "stream",
     "text": [
      "+--------------------+----------------+-------------------+--------------------+--------------------+\n",
      "|         business_id|compliment_count|               date|                text|             user_id|\n",
      "+--------------------+----------------+-------------------+--------------------+--------------------+\n",
      "|VaKXUpmWTTWDKbpJ3...|               0|2014-03-27 03:51:24|Great for watchin...|UPw5DWs_b-e2JRBS-...|\n",
      "|OPiPeoJiv92rENwbq...|               0|2013-05-25 06:00:56|Happy Hour 2-4 da...|Ocha4kZBHb4JK0lOW...|\n",
      "|5KheTjYPu1HcQzQFt...|               0|2011-12-26 01:46:17|Good chips and sa...|jRyO2V1pA4CdVVqCI...|\n",
      "|TkoyGi8J7YFjA6Sba...|               0|2014-03-23 21:32:49|The setting and d...|FuTJWFYm4UKqewaos...|\n",
      "|AkL6Ous6A1atZejfZ...|               0|2012-10-06 00:19:27|Molly is definate...|LUlKtaM3nXd-E4N4u...|\n",
      "|kj1p6NwUGROOoqNyS...|               0|2011-12-31 18:02:42|It's true! The dr...|iAd8XaHxv05iXyEiZ...|\n",
      "|0hudPyuCBlKg79OwK...|               0|2012-10-11 23:06:21|Only worth a visi...|w8p4JW6-ERsbg8aB5...|\n",
      "|r49iBfbnfoK7yt4rd...|               0|2016-01-05 06:39:33|Hands down best A...|CaFbX7topxdLpBJ_S...|\n",
      "|YCRCFBr6myPS49on2...|               0|2017-03-13 03:29:40|Sat in the drive ...|VLy6l8L72adD7iTBN...|\n",
      "|RTBIiq-fJUXRsrzbL...|               0|2013-02-08 20:55:15|Okay so I had a g...|zrvk0-B91ahJRSB-U...|\n",
      "|qrSsS0pk7SL67MP5n...|               0|2013-12-22 05:10:12|More parking in t...|8zXgNCkusOHMwh5Tj...|\n",
      "|oGASRzKGpuiP12ilQ...|               0|2010-03-04 15:41:16|Best pretzels thi...|NXXC2iU0o3tDVu6YN...|\n",
      "|63bHLJUomC22Xdm3I...|               0|2011-10-18 18:29:05|Having the yellow...|DfvT4F5Eqx9Xr3Ei3...|\n",
      "|wZhB4U003eg2GQ-F7...|               0|2016-08-12 22:18:07|When you receive ...|oIHhfloe5VQamDFDB...|\n",
      "|Cni2l-VKG_pdospJ6...|               0|2011-10-09 03:43:39|2nd stop for the ...|NEN5RFpZp7DE6K1PK...|\n",
      "|EZZjaiV8ik05NUepq...|               0|2018-02-14 21:35:49|Really delicious ...|Fzz-0v1yHLaWuTV64...|\n",
      "|xZfPdAYeimiruXuGR...|               0|2011-04-21 22:43:28|            Dinner!!|CbmNBkKa9QKNxPiN_...|\n",
      "|D2nfOrnJ2OBlX_428...|               0|2011-12-30 17:10:16|Long lines at lun...|3KkT6SmPFLGvBS1pn...|\n",
      "|C7JaaErXLB3B3486L...|               0|2013-02-17 06:22:49|Go somewhere else...|kMcz3zQgNjZYV65qY...|\n",
      "|j9I2YkFCOKyAEb_3F...|               0|2011-04-09 18:58:36|#poutinecrawl #yy...|JnHaPHkRO2_8V-Dys...|\n",
      "+--------------------+----------------+-------------------+--------------------+--------------------+\n",
      "only showing top 20 rows\n",
      "\n"
     ]
    }
   ],
   "source": [
    "tip.show()"
   ]
  },
  {
   "cell_type": "code",
   "execution_count": 3,
   "metadata": {},
   "outputs": [
    {
     "data": {
      "text/plain": [
       "pyspark.sql.dataframe.DataFrame"
      ]
     },
     "execution_count": 3,
     "metadata": {},
     "output_type": "execute_result"
    }
   ],
   "source": [
    "type(tip)"
   ]
  },
  {
   "cell_type": "code",
   "execution_count": 7,
   "metadata": {},
   "outputs": [],
   "source": [
    "import numpy as np\n",
    "tips = np.array(tip.collect())"
   ]
  },
  {
   "cell_type": "code",
   "execution_count": 8,
   "metadata": {},
   "outputs": [
    {
     "data": {
      "text/plain": [
       "numpy.ndarray"
      ]
     },
     "execution_count": 8,
     "metadata": {},
     "output_type": "execute_result"
    }
   ],
   "source": [
    "type(tips)"
   ]
  },
  {
   "cell_type": "code",
   "execution_count": 9,
   "metadata": {},
   "outputs": [
    {
     "data": {
      "text/plain": [
       "array([['VaKXUpmWTTWDKbpJ3aQdMw', '0', '2014-03-27 03:51:24',\n",
       "        'Great for watching games, ufc, and whatever else tickles yer fancy',\n",
       "        'UPw5DWs_b-e2JRBS-t37Ag'],\n",
       "       ['OPiPeoJiv92rENwbq76orA', '0', '2013-05-25 06:00:56',\n",
       "        'Happy Hour 2-4 daily with 1/2 price drinks and slushes AND after 8 half price shakes.  They actually have a peanut butter and bacon shake.',\n",
       "        'Ocha4kZBHb4JK0lOWvE0sg'],\n",
       "       ['5KheTjYPu1HcQzQFtm4_vw', '0', '2011-12-26 01:46:17',\n",
       "        'Good chips and salsa. Loud at times. Good service. Bathrooms AWFUL. So that tanks my view on this place.',\n",
       "        'jRyO2V1pA4CdVVqCIOPc1Q'],\n",
       "       ...,\n",
       "       ['wEc4JE2NYQr1RnGjGr4q7w', '0', '2018-10-02 03:34:58',\n",
       "        'Jess is the best bartender!! Go check her out!',\n",
       "        'HtLaONYabidSxMS1eGHcXA'],\n",
       "       ['n5Hc_iMVkyxcS0SXiBCbOQ', '0', '2018-10-13 16:57:50',\n",
       "        'Excellent food and AMAZING service by Anneliese!!',\n",
       "        'T4R5ZKfcGt1GIAgjCh67eA'],\n",
       "       ['wEoaR5WKNtLOLyR1z0TYdg', '0', '2018-11-10 03:17:18',\n",
       "        'Funnnnn!!!', '2Ag223bd4OtQOnc-F067rQ']], dtype='<U500')"
      ]
     },
     "execution_count": 9,
     "metadata": {},
     "output_type": "execute_result"
    }
   ],
   "source": [
    "tips"
   ]
  },
  {
   "cell_type": "code",
   "execution_count": 10,
   "metadata": {},
   "outputs": [],
   "source": [
    "tip.createOrReplaceTempView(\"tip\")\n",
    "review.createOrReplaceTempView(\"review\")"
   ]
  },
  {
   "cell_type": "code",
   "execution_count": 11,
   "metadata": {},
   "outputs": [],
   "source": [
    "tip_review_pair = spark.sql('SELECT tip.business_id, tip.user_id, tip.text as tip_text, review.text as review_text FROM tip, review WHERE tip.business_id = review.business_id and tip.user_id = review.user_id and length(tip.text) > 20')"
   ]
  },
  {
   "cell_type": "code",
   "execution_count": 12,
   "metadata": {},
   "outputs": [
    {
     "name": "stdout",
     "output_type": "stream",
     "text": [
      "+--------------------+--------------------+--------------------+--------------------+\n",
      "|         business_id|             user_id|            tip_text|         review_text|\n",
      "+--------------------+--------------------+--------------------+--------------------+\n",
      "|-1uVyyy3UXNA9WoPu...|AYmMRr8h3cpGvEoWQ...|The place is clea...|The place is clea...|\n",
      "|-6gD8mJAEFI-YbUBy...|EnD0bQgG3IIDLgw8f...|Still a shitty ex...|This store always...|\n",
      "|-95mbLJsa0CxXhpaN...|8mydccL9O-C0oGjV-...|Pumpkin pie ice c...|Service was very ...|\n",
      "|-AD5PiuJHgdUcAK-V...|T5KBc5QbwZ-Oj9ApE...|Discontinued goat...|After two trips h...|\n",
      "|-DQqRhwnSUB1hGHqa...|EWmMjeQY86NsDOwbw...|A+ from start to ...|A+ from start to ...|\n",
      "|-FtngCwHCD2tRlH8j...|_LZ_xEirLHQa2NZfE...|Gave the place a ...|Gave the place a ...|\n",
      "|-FtngCwHCD2tRlH8j...|_LZ_xEirLHQa2NZfE...|Gave the place a ...|We have been twic...|\n",
      "|-GOsHrWPC0meDRgkC...|MfcOrU_PGKSs6FNUR...|Really good food....|Really good food....|\n",
      "|-J6FVdY9pSgAdFmma...|orh0HRUNCWuQMt9Ii...|10% off with cash...|We came for lunch...|\n",
      "|-NVarOq5E4htuA3Q3...|XqNVaP8JqJjaP7OZr...|Never disappoints...|Love coming here!...|\n",
      "|-RHW9_OT8GDI597oa...|sTcYq6goD1Fa2WS9M...|Not impressed.  P...|If you are not pa...|\n",
      "|-WLrZPzjKfrftLWaC...|yYmKA6uTm4yE1nyZE...|I loved the servi...|I loved the servi...|\n",
      "|-ZBfr1BHvArFp1d6X...|EvOn3tsqrOapQKUPy...|Yummy burgers and...|I was craving a b...|\n",
      "|-ZBfr1BHvArFp1d6X...|hqL8ej2IcXwULp29C...|We love this plac...|We're back! Love ...|\n",
      "|-a7zG805SAmCxSKJq...|J9c0XM-wV_KQmtZYx...|If your girl is a...|I totally disagre...|\n",
      "|-aMC2Dy2rqHicz9Hj...|qTf3cY_y983GVG2aA...|Carter and Rossi ...|The best diner in...|\n",
      "|-bHpvkmiFzm_swHLY...|42P_hSlGg0Lgj6wl9...|1/2 apps in bar o...|You think this pl...|\n",
      "|-ed0Yc9on37RoIoG2...|RJVpaFHx3MwynTM8T...|Dinner with the y...|BOMB ASS WINGS!!!...|\n",
      "|-ed0Yc9on37RoIoG2...|RJVpaFHx3MwynTM8T...|Thai Style Wings ...|BOMB ASS WINGS!!!...|\n",
      "|-ed0Yc9on37RoIoG2...|RJVpaFHx3MwynTM8T...|The Roti (puff pa...|BOMB ASS WINGS!!!...|\n",
      "+--------------------+--------------------+--------------------+--------------------+\n",
      "only showing top 20 rows\n",
      "\n"
     ]
    }
   ],
   "source": [
    "tip_review_pair.show()"
   ]
  },
  {
   "cell_type": "code",
   "execution_count": 13,
   "metadata": {},
   "outputs": [
    {
     "data": {
      "text/plain": [
       "pyspark.sql.dataframe.DataFrame"
      ]
     },
     "execution_count": 13,
     "metadata": {},
     "output_type": "execute_result"
    }
   ],
   "source": [
    "type(tip_review_pair)"
   ]
  },
  {
   "cell_type": "code",
   "execution_count": 14,
   "metadata": {},
   "outputs": [
    {
     "data": {
      "text/plain": [
       "488400"
      ]
     },
     "execution_count": 14,
     "metadata": {},
     "output_type": "execute_result"
    }
   ],
   "source": [
    "tip_review_pair.count()"
   ]
  },
  {
   "cell_type": "code",
   "execution_count": 15,
   "metadata": {},
   "outputs": [
    {
     "data": {
      "text/plain": [
       "1223094"
      ]
     },
     "execution_count": 15,
     "metadata": {},
     "output_type": "execute_result"
    }
   ],
   "source": [
    "tip.count()"
   ]
  },
  {
   "cell_type": "code",
   "execution_count": 16,
   "metadata": {},
   "outputs": [
    {
     "data": {
      "text/plain": [
       "6685900"
      ]
     },
     "execution_count": 16,
     "metadata": {},
     "output_type": "execute_result"
    }
   ],
   "source": [
    "review.count()"
   ]
  },
  {
   "cell_type": "code",
   "execution_count": 41,
   "metadata": {},
   "outputs": [
    {
     "name": "stdout",
     "output_type": "stream",
     "text": [
      "+-----------------------------------------------------------------------------------------------------------------------------------------------------------------------------------------------------------------------------------+\n",
      "|review_text                                                                                                                                                                                                                        |\n",
      "+-----------------------------------------------------------------------------------------------------------------------------------------------------------------------------------------------------------------------------------+\n",
      "|The place is cleaner and cheaper than other Mexican markets. It's nice to have a market near me. The carne asada is good and the marinated chicken is also delicious.                                                              |\n",
      "|This store always has ONE employee whose always busy helping the incoming customers. It's sad that CUSTOMER SERVICE does not exist anymore. This is pretty ridiculous that it takes 30/45 minutes just to be seen... RIDICULOUS!!!!|\n",
      "+-----------------------------------------------------------------------------------------------------------------------------------------------------------------------------------------------------------------------------------+\n",
      "only showing top 2 rows\n",
      "\n"
     ]
    }
   ],
   "source": [
    "tip_review_pair.select(\"review_text\").show(2,False)"
   ]
  },
  {
   "cell_type": "code",
   "execution_count": 42,
   "metadata": {},
   "outputs": [],
   "source": [
    "#test\n",
    "test = tip_review_pair.take(5)"
   ]
  },
  {
   "cell_type": "code",
   "execution_count": 45,
   "metadata": {},
   "outputs": [
    {
     "data": {
      "text/plain": [
       "list"
      ]
     },
     "execution_count": 45,
     "metadata": {},
     "output_type": "execute_result"
    }
   ],
   "source": [
    "type(test)"
   ]
  },
  {
   "cell_type": "code",
   "execution_count": 51,
   "metadata": {},
   "outputs": [
    {
     "data": {
      "text/plain": [
       "'Discontinued goat cheese - if pepper jack lets me down today I may have to give up on burgers! Grr'"
      ]
     },
     "execution_count": 51,
     "metadata": {},
     "output_type": "execute_result"
    }
   ],
   "source": [
    "test[3]['tip_text']"
   ]
  },
  {
   "cell_type": "code",
   "execution_count": 52,
   "metadata": {},
   "outputs": [],
   "source": [
    "review_text = tip_review_pair.select('review_text')"
   ]
  },
  {
   "cell_type": "code",
   "execution_count": 53,
   "metadata": {},
   "outputs": [
    {
     "data": {
      "text/plain": [
       "pyspark.sql.dataframe.DataFrame"
      ]
     },
     "execution_count": 53,
     "metadata": {},
     "output_type": "execute_result"
    }
   ],
   "source": [
    "type(review_text)"
   ]
  },
  {
   "cell_type": "code",
   "execution_count": 17,
   "metadata": {},
   "outputs": [],
   "source": [
    "test_tip_review_pair = tip_review_pair.select('review_text','tip_text')"
   ]
  },
  {
   "cell_type": "code",
   "execution_count": 18,
   "metadata": {},
   "outputs": [
    {
     "name": "stdout",
     "output_type": "stream",
     "text": [
      "+--------------------+--------------------+\n",
      "|         review_text|            tip_text|\n",
      "+--------------------+--------------------+\n",
      "|The place is clea...|The place is clea...|\n",
      "|This store always...|Still a shitty ex...|\n",
      "|Service was very ...|Pumpkin pie ice c...|\n",
      "|After two trips h...|Discontinued goat...|\n",
      "|A+ from start to ...|A+ from start to ...|\n",
      "+--------------------+--------------------+\n",
      "only showing top 5 rows\n",
      "\n"
     ]
    }
   ],
   "source": [
    "test_tip_review_pair.show(5)"
   ]
  },
  {
   "cell_type": "code",
   "execution_count": 19,
   "metadata": {},
   "outputs": [
    {
     "data": {
      "text/plain": [
       "pyspark.sql.dataframe.DataFrame"
      ]
     },
     "execution_count": 19,
     "metadata": {},
     "output_type": "execute_result"
    }
   ],
   "source": [
    "type(test_tip_review_pair)"
   ]
  },
  {
   "cell_type": "code",
   "execution_count": 20,
   "metadata": {},
   "outputs": [
    {
     "name": "stdout",
     "output_type": "stream",
     "text": [
      "root\n",
      " |-- review_text: string (nullable = true)\n",
      " |-- tip_text: string (nullable = true)\n",
      "\n"
     ]
    }
   ],
   "source": [
    "test_tip_review_pair.printSchema()"
   ]
  },
  {
   "cell_type": "code",
   "execution_count": 35,
   "metadata": {},
   "outputs": [],
   "source": [
    "tip_review_pair_rdd = test_tip_review_pair.rdd.flatMap(lambda x: x)"
   ]
  },
  {
   "cell_type": "code",
   "execution_count": 36,
   "metadata": {},
   "outputs": [
    {
     "data": {
      "text/plain": [
       "pyspark.rdd.PipelinedRDD"
      ]
     },
     "execution_count": 36,
     "metadata": {},
     "output_type": "execute_result"
    }
   ],
   "source": [
    "type(tip_review_pair_rdd)"
   ]
  },
  {
   "cell_type": "code",
   "execution_count": 37,
   "metadata": {},
   "outputs": [
    {
     "data": {
      "text/plain": [
       "[\"The place is cleaner and cheaper than other Mexican markets. It's nice to have a market near me. The carne asada is good and the marinated chicken is also delicious.\",\n",
       " 'The place is cleaner and cheaper than other Mexican markets.',\n",
       " \"This store always has ONE employee whose always busy helping the incoming customers. It's sad that CUSTOMER SERVICE does not exist anymore. This is pretty ridiculous that it takes 30/45 minutes just to be seen... RIDICULOUS!!!!\",\n",
       " 'Still a shitty experience.',\n",
       " 'Service was very friendly! Ordered the donut sandwich with pumpkin pie ice cream. Delicious!']"
      ]
     },
     "execution_count": 37,
     "metadata": {},
     "output_type": "execute_result"
    }
   ],
   "source": [
    "tip_review_pair_rdd.take(5)"
   ]
  },
  {
   "cell_type": "code",
   "execution_count": 23,
   "metadata": {},
   "outputs": [],
   "source": [
    "#nltk\n",
    "def word_tokenize(x):\n",
    "    import nltk\n",
    "    return nltk.word_tokenize(x)\n",
    "# words = [w.lower() for w in tokens if w.isalpha() if w.lower() not in mystopwords]"
   ]
  },
  {
   "cell_type": "code",
   "execution_count": 24,
   "metadata": {},
   "outputs": [],
   "source": [
    "def remove_punctuation(x):\n",
    "    import re, string\n",
    "    list_punct=list(string.punctuation)\n",
    "    out = [ch for ch in x if ch not in list_punct]\n",
    "    return out"
   ]
  },
  {
   "cell_type": "code",
   "execution_count": 25,
   "metadata": {},
   "outputs": [],
   "source": [
    "def remove_stop_words(x):\n",
    "    from nltk.corpus import stopwords\n",
    "    stop_words = stopwords.words('english')\n",
    "    filteredSentence = [w.lower() for w in x if w.isalpha() if w.lower() not in stop_words]\n",
    "    return filteredSentence"
   ]
  },
  {
   "cell_type": "code",
   "execution_count": 26,
   "metadata": {},
   "outputs": [],
   "source": [
    "def lemmatize(x):\n",
    "    import nltk\n",
    "    wnl = nltk.WordNetLemmatizer()\n",
    "    lemmatize = [wnl.lemmatize(w) for w in x]\n",
    "    return lemmatize "
   ]
  },
  {
   "cell_type": "code",
   "execution_count": 27,
   "metadata": {},
   "outputs": [],
   "source": [
    "def pos_of_tags(x):\n",
    "    import nltk\n",
    "    POS_tags = nltk.pos_tag(x)\n",
    "    return POS_tags"
   ]
  },
  {
   "cell_type": "code",
   "execution_count": 28,
   "metadata": {},
   "outputs": [],
   "source": [
    "def joinTokensFunct(x):\n",
    "    joinedTokens_list = []\n",
    "    x = \" \".join(x)\n",
    "    return x"
   ]
  },
  {
   "cell_type": "code",
   "execution_count": 29,
   "metadata": {},
   "outputs": [],
   "source": [
    "def text_summarize(x):\n",
    "    import sumy\n",
    "    from sumy.parsers.plaintext import PlaintextParser\n",
    "    from sumy.nlp.tokenizers import Tokenizer\n",
    "    from sumy.summarizers.lex_rank import LexRankSummarizer\n",
    "    parser = PlaintextParser.from_string(x,Tokenizer(\"english\"))\n",
    "    summarizer = LexRankSummarizer()\n",
    "    summary = summarizer(parser.document, 1)\n",
    "    for sent in summary:\n",
    "        return str(sent)\n",
    "    "
   ]
  },
  {
   "cell_type": "code",
   "execution_count": 30,
   "metadata": {},
   "outputs": [],
   "source": [
    "def sentiment_score(x):\n",
    "    from nltk.sentiment.vader import SentimentIntensityAnalyzer\n",
    "    sid = SentimentIntensityAnalyzer() \n",
    "    ss = sid.polarity_scores(x)\n",
    "    return ss\n",
    "\n",
    "    "
   ]
  },
  {
   "cell_type": "code",
   "execution_count": 208,
   "metadata": {},
   "outputs": [],
   "source": [
    "s = \"The place is cleaner and cheaper than other Mexican markets. It's nice to have a market near me. The carne asada is good and the marinated chicken is also delicious.\""
   ]
  },
  {
   "cell_type": "code",
   "execution_count": 209,
   "metadata": {},
   "outputs": [
    {
     "data": {
      "text/plain": [
       "{'neg': 0.0, 'neu': 0.693, 'pos': 0.307, 'compound': 0.8779}"
      ]
     },
     "execution_count": 209,
     "metadata": {},
     "output_type": "execute_result"
    }
   ],
   "source": [
    "sentiment_score(s)"
   ]
  },
  {
   "cell_type": "code",
   "execution_count": 38,
   "metadata": {},
   "outputs": [],
   "source": []
  },
  {
   "cell_type": "code",
   "execution_count": 40,
   "metadata": {},
   "outputs": [],
   "source": [
    "reviews_rdd = test_tip_review_pair.select(\"review_text\").rdd.flatMap(lambda x: x)"
   ]
  },
  {
   "cell_type": "code",
   "execution_count": 41,
   "metadata": {},
   "outputs": [
    {
     "data": {
      "text/plain": [
       "[\"The place is cleaner and cheaper than other Mexican markets. It's nice to have a market near me. The carne asada is good and the marinated chicken is also delicious.\",\n",
       " \"This store always has ONE employee whose always busy helping the incoming customers. It's sad that CUSTOMER SERVICE does not exist anymore. This is pretty ridiculous that it takes 30/45 minutes just to be seen... RIDICULOUS!!!!\",\n",
       " 'Service was very friendly! Ordered the donut sandwich with pumpkin pie ice cream. Delicious!',\n",
       " \"After two trips here, I think it is alright.  I haven't been here since they first opened, and it was not on my radar for nearby options at work.  My colleague and lunchmate suggested it, and off we went.\\n\\nThe burger itself was great.  I ordered a small make-my-own burger on classic egg bun, topped with grilled onions, fresh jalepenos, fried egg, avocado, and goat cheese.  For some reason, this combo truly worked.  It was darn tasty.  The egg was not runny at all, but it still added a special flavor.  It was initially forgotten when my burger arrived at the table, but was quickly brought back.\\n\\nI also ordered the sweet potato smashfries.  The concept of the added spices is great on fries, but the sweet potato fries looked double fried, completely different than the regular fries my friend had.  Also, each bite tasted like soaked in oil - and it was oozy.  I did not eat much of the fries.\\n\\nIt is quite expensive (especially with my add ons) but the small burger is the right size and as a clean slate is under $4.  I would return for my specific combination of deliciousness.\",\n",
       " \"A+ from start to finish! I had an ongoing roof leak that was coming from under my old a/C unit. When Sun Country pulled the old unit they found some of the plywood was severly damaged and they couldn't install new unit until I got roof repaired. They worked well with my roofer and got the job done the next day. I highly recommend them. From sales rep that came out to do estimate, to the office staff, and the crew in uniform, very polite, and cleaned up after themselves. They were not the cheapest but no where near the highest estimate. And to top it off, the include a three year  (twice a year) service agreement with purchase!\"]"
      ]
     },
     "execution_count": 41,
     "metadata": {},
     "output_type": "execute_result"
    }
   ],
   "source": [
    "reviews_rdd.take(5)"
   ]
  },
  {
   "cell_type": "code",
   "execution_count": 60,
   "metadata": {},
   "outputs": [],
   "source": [
    "tokenized_rdd = reviews_rdd.map(word_tokenize)"
   ]
  },
  {
   "cell_type": "code",
   "execution_count": 61,
   "metadata": {},
   "outputs": [
    {
     "data": {
      "text/plain": [
       "[['The',\n",
       "  'place',\n",
       "  'is',\n",
       "  'cleaner',\n",
       "  'and',\n",
       "  'cheaper',\n",
       "  'than',\n",
       "  'other',\n",
       "  'Mexican',\n",
       "  'markets',\n",
       "  '.',\n",
       "  'It',\n",
       "  \"'s\",\n",
       "  'nice',\n",
       "  'to',\n",
       "  'have',\n",
       "  'a',\n",
       "  'market',\n",
       "  'near',\n",
       "  'me',\n",
       "  '.',\n",
       "  'The',\n",
       "  'carne',\n",
       "  'asada',\n",
       "  'is',\n",
       "  'good',\n",
       "  'and',\n",
       "  'the',\n",
       "  'marinated',\n",
       "  'chicken',\n",
       "  'is',\n",
       "  'also',\n",
       "  'delicious',\n",
       "  '.'],\n",
       " ['This',\n",
       "  'store',\n",
       "  'always',\n",
       "  'has',\n",
       "  'ONE',\n",
       "  'employee',\n",
       "  'whose',\n",
       "  'always',\n",
       "  'busy',\n",
       "  'helping',\n",
       "  'the',\n",
       "  'incoming',\n",
       "  'customers',\n",
       "  '.',\n",
       "  'It',\n",
       "  \"'s\",\n",
       "  'sad',\n",
       "  'that',\n",
       "  'CUSTOMER',\n",
       "  'SERVICE',\n",
       "  'does',\n",
       "  'not',\n",
       "  'exist',\n",
       "  'anymore',\n",
       "  '.',\n",
       "  'This',\n",
       "  'is',\n",
       "  'pretty',\n",
       "  'ridiculous',\n",
       "  'that',\n",
       "  'it',\n",
       "  'takes',\n",
       "  '30/45',\n",
       "  'minutes',\n",
       "  'just',\n",
       "  'to',\n",
       "  'be',\n",
       "  'seen',\n",
       "  '...',\n",
       "  'RIDICULOUS',\n",
       "  '!',\n",
       "  '!',\n",
       "  '!',\n",
       "  '!'],\n",
       " ['Service',\n",
       "  'was',\n",
       "  'very',\n",
       "  'friendly',\n",
       "  '!',\n",
       "  'Ordered',\n",
       "  'the',\n",
       "  'donut',\n",
       "  'sandwich',\n",
       "  'with',\n",
       "  'pumpkin',\n",
       "  'pie',\n",
       "  'ice',\n",
       "  'cream',\n",
       "  '.',\n",
       "  'Delicious',\n",
       "  '!'],\n",
       " ['After',\n",
       "  'two',\n",
       "  'trips',\n",
       "  'here',\n",
       "  ',',\n",
       "  'I',\n",
       "  'think',\n",
       "  'it',\n",
       "  'is',\n",
       "  'alright',\n",
       "  '.',\n",
       "  'I',\n",
       "  'have',\n",
       "  \"n't\",\n",
       "  'been',\n",
       "  'here',\n",
       "  'since',\n",
       "  'they',\n",
       "  'first',\n",
       "  'opened',\n",
       "  ',',\n",
       "  'and',\n",
       "  'it',\n",
       "  'was',\n",
       "  'not',\n",
       "  'on',\n",
       "  'my',\n",
       "  'radar',\n",
       "  'for',\n",
       "  'nearby',\n",
       "  'options',\n",
       "  'at',\n",
       "  'work',\n",
       "  '.',\n",
       "  'My',\n",
       "  'colleague',\n",
       "  'and',\n",
       "  'lunchmate',\n",
       "  'suggested',\n",
       "  'it',\n",
       "  ',',\n",
       "  'and',\n",
       "  'off',\n",
       "  'we',\n",
       "  'went',\n",
       "  '.',\n",
       "  'The',\n",
       "  'burger',\n",
       "  'itself',\n",
       "  'was',\n",
       "  'great',\n",
       "  '.',\n",
       "  'I',\n",
       "  'ordered',\n",
       "  'a',\n",
       "  'small',\n",
       "  'make-my-own',\n",
       "  'burger',\n",
       "  'on',\n",
       "  'classic',\n",
       "  'egg',\n",
       "  'bun',\n",
       "  ',',\n",
       "  'topped',\n",
       "  'with',\n",
       "  'grilled',\n",
       "  'onions',\n",
       "  ',',\n",
       "  'fresh',\n",
       "  'jalepenos',\n",
       "  ',',\n",
       "  'fried',\n",
       "  'egg',\n",
       "  ',',\n",
       "  'avocado',\n",
       "  ',',\n",
       "  'and',\n",
       "  'goat',\n",
       "  'cheese',\n",
       "  '.',\n",
       "  'For',\n",
       "  'some',\n",
       "  'reason',\n",
       "  ',',\n",
       "  'this',\n",
       "  'combo',\n",
       "  'truly',\n",
       "  'worked',\n",
       "  '.',\n",
       "  'It',\n",
       "  'was',\n",
       "  'darn',\n",
       "  'tasty',\n",
       "  '.',\n",
       "  'The',\n",
       "  'egg',\n",
       "  'was',\n",
       "  'not',\n",
       "  'runny',\n",
       "  'at',\n",
       "  'all',\n",
       "  ',',\n",
       "  'but',\n",
       "  'it',\n",
       "  'still',\n",
       "  'added',\n",
       "  'a',\n",
       "  'special',\n",
       "  'flavor',\n",
       "  '.',\n",
       "  'It',\n",
       "  'was',\n",
       "  'initially',\n",
       "  'forgotten',\n",
       "  'when',\n",
       "  'my',\n",
       "  'burger',\n",
       "  'arrived',\n",
       "  'at',\n",
       "  'the',\n",
       "  'table',\n",
       "  ',',\n",
       "  'but',\n",
       "  'was',\n",
       "  'quickly',\n",
       "  'brought',\n",
       "  'back',\n",
       "  '.',\n",
       "  'I',\n",
       "  'also',\n",
       "  'ordered',\n",
       "  'the',\n",
       "  'sweet',\n",
       "  'potato',\n",
       "  'smashfries',\n",
       "  '.',\n",
       "  'The',\n",
       "  'concept',\n",
       "  'of',\n",
       "  'the',\n",
       "  'added',\n",
       "  'spices',\n",
       "  'is',\n",
       "  'great',\n",
       "  'on',\n",
       "  'fries',\n",
       "  ',',\n",
       "  'but',\n",
       "  'the',\n",
       "  'sweet',\n",
       "  'potato',\n",
       "  'fries',\n",
       "  'looked',\n",
       "  'double',\n",
       "  'fried',\n",
       "  ',',\n",
       "  'completely',\n",
       "  'different',\n",
       "  'than',\n",
       "  'the',\n",
       "  'regular',\n",
       "  'fries',\n",
       "  'my',\n",
       "  'friend',\n",
       "  'had',\n",
       "  '.',\n",
       "  'Also',\n",
       "  ',',\n",
       "  'each',\n",
       "  'bite',\n",
       "  'tasted',\n",
       "  'like',\n",
       "  'soaked',\n",
       "  'in',\n",
       "  'oil',\n",
       "  '-',\n",
       "  'and',\n",
       "  'it',\n",
       "  'was',\n",
       "  'oozy',\n",
       "  '.',\n",
       "  'I',\n",
       "  'did',\n",
       "  'not',\n",
       "  'eat',\n",
       "  'much',\n",
       "  'of',\n",
       "  'the',\n",
       "  'fries',\n",
       "  '.',\n",
       "  'It',\n",
       "  'is',\n",
       "  'quite',\n",
       "  'expensive',\n",
       "  '(',\n",
       "  'especially',\n",
       "  'with',\n",
       "  'my',\n",
       "  'add',\n",
       "  'ons',\n",
       "  ')',\n",
       "  'but',\n",
       "  'the',\n",
       "  'small',\n",
       "  'burger',\n",
       "  'is',\n",
       "  'the',\n",
       "  'right',\n",
       "  'size',\n",
       "  'and',\n",
       "  'as',\n",
       "  'a',\n",
       "  'clean',\n",
       "  'slate',\n",
       "  'is',\n",
       "  'under',\n",
       "  '$',\n",
       "  '4',\n",
       "  '.',\n",
       "  'I',\n",
       "  'would',\n",
       "  'return',\n",
       "  'for',\n",
       "  'my',\n",
       "  'specific',\n",
       "  'combination',\n",
       "  'of',\n",
       "  'deliciousness',\n",
       "  '.'],\n",
       " ['A+',\n",
       "  'from',\n",
       "  'start',\n",
       "  'to',\n",
       "  'finish',\n",
       "  '!',\n",
       "  'I',\n",
       "  'had',\n",
       "  'an',\n",
       "  'ongoing',\n",
       "  'roof',\n",
       "  'leak',\n",
       "  'that',\n",
       "  'was',\n",
       "  'coming',\n",
       "  'from',\n",
       "  'under',\n",
       "  'my',\n",
       "  'old',\n",
       "  'a/C',\n",
       "  'unit',\n",
       "  '.',\n",
       "  'When',\n",
       "  'Sun',\n",
       "  'Country',\n",
       "  'pulled',\n",
       "  'the',\n",
       "  'old',\n",
       "  'unit',\n",
       "  'they',\n",
       "  'found',\n",
       "  'some',\n",
       "  'of',\n",
       "  'the',\n",
       "  'plywood',\n",
       "  'was',\n",
       "  'severly',\n",
       "  'damaged',\n",
       "  'and',\n",
       "  'they',\n",
       "  'could',\n",
       "  \"n't\",\n",
       "  'install',\n",
       "  'new',\n",
       "  'unit',\n",
       "  'until',\n",
       "  'I',\n",
       "  'got',\n",
       "  'roof',\n",
       "  'repaired',\n",
       "  '.',\n",
       "  'They',\n",
       "  'worked',\n",
       "  'well',\n",
       "  'with',\n",
       "  'my',\n",
       "  'roofer',\n",
       "  'and',\n",
       "  'got',\n",
       "  'the',\n",
       "  'job',\n",
       "  'done',\n",
       "  'the',\n",
       "  'next',\n",
       "  'day',\n",
       "  '.',\n",
       "  'I',\n",
       "  'highly',\n",
       "  'recommend',\n",
       "  'them',\n",
       "  '.',\n",
       "  'From',\n",
       "  'sales',\n",
       "  'rep',\n",
       "  'that',\n",
       "  'came',\n",
       "  'out',\n",
       "  'to',\n",
       "  'do',\n",
       "  'estimate',\n",
       "  ',',\n",
       "  'to',\n",
       "  'the',\n",
       "  'office',\n",
       "  'staff',\n",
       "  ',',\n",
       "  'and',\n",
       "  'the',\n",
       "  'crew',\n",
       "  'in',\n",
       "  'uniform',\n",
       "  ',',\n",
       "  'very',\n",
       "  'polite',\n",
       "  ',',\n",
       "  'and',\n",
       "  'cleaned',\n",
       "  'up',\n",
       "  'after',\n",
       "  'themselves',\n",
       "  '.',\n",
       "  'They',\n",
       "  'were',\n",
       "  'not',\n",
       "  'the',\n",
       "  'cheapest',\n",
       "  'but',\n",
       "  'no',\n",
       "  'where',\n",
       "  'near',\n",
       "  'the',\n",
       "  'highest',\n",
       "  'estimate',\n",
       "  '.',\n",
       "  'And',\n",
       "  'to',\n",
       "  'top',\n",
       "  'it',\n",
       "  'off',\n",
       "  ',',\n",
       "  'the',\n",
       "  'include',\n",
       "  'a',\n",
       "  'three',\n",
       "  'year',\n",
       "  '(',\n",
       "  'twice',\n",
       "  'a',\n",
       "  'year',\n",
       "  ')',\n",
       "  'service',\n",
       "  'agreement',\n",
       "  'with',\n",
       "  'purchase',\n",
       "  '!']]"
      ]
     },
     "execution_count": 61,
     "metadata": {},
     "output_type": "execute_result"
    }
   ],
   "source": [
    "tokenized_rdd.take(5)"
   ]
  },
  {
   "cell_type": "code",
   "execution_count": 62,
   "metadata": {},
   "outputs": [],
   "source": [
    "processed_review_rdd = tokenized_rdd.map(remove_punctuation).map(remove_stop_words).map(lemmatize)"
   ]
  },
  {
   "cell_type": "code",
   "execution_count": 63,
   "metadata": {},
   "outputs": [
    {
     "data": {
      "text/plain": [
       "[['place',\n",
       "  'cleaner',\n",
       "  'cheaper',\n",
       "  'mexican',\n",
       "  'market',\n",
       "  'nice',\n",
       "  'market',\n",
       "  'near',\n",
       "  'carne',\n",
       "  'asada',\n",
       "  'good',\n",
       "  'marinated',\n",
       "  'chicken',\n",
       "  'also',\n",
       "  'delicious'],\n",
       " ['store',\n",
       "  'always',\n",
       "  'one',\n",
       "  'employee',\n",
       "  'whose',\n",
       "  'always',\n",
       "  'busy',\n",
       "  'helping',\n",
       "  'incoming',\n",
       "  'customer',\n",
       "  'sad',\n",
       "  'customer',\n",
       "  'service',\n",
       "  'exist',\n",
       "  'anymore',\n",
       "  'pretty',\n",
       "  'ridiculous',\n",
       "  'take',\n",
       "  'minute',\n",
       "  'seen',\n",
       "  'ridiculous'],\n",
       " ['service',\n",
       "  'friendly',\n",
       "  'ordered',\n",
       "  'donut',\n",
       "  'sandwich',\n",
       "  'pumpkin',\n",
       "  'pie',\n",
       "  'ice',\n",
       "  'cream',\n",
       "  'delicious'],\n",
       " ['two',\n",
       "  'trip',\n",
       "  'think',\n",
       "  'alright',\n",
       "  'since',\n",
       "  'first',\n",
       "  'opened',\n",
       "  'radar',\n",
       "  'nearby',\n",
       "  'option',\n",
       "  'work',\n",
       "  'colleague',\n",
       "  'lunchmate',\n",
       "  'suggested',\n",
       "  'went',\n",
       "  'burger',\n",
       "  'great',\n",
       "  'ordered',\n",
       "  'small',\n",
       "  'burger',\n",
       "  'classic',\n",
       "  'egg',\n",
       "  'bun',\n",
       "  'topped',\n",
       "  'grilled',\n",
       "  'onion',\n",
       "  'fresh',\n",
       "  'jalepenos',\n",
       "  'fried',\n",
       "  'egg',\n",
       "  'avocado',\n",
       "  'goat',\n",
       "  'cheese',\n",
       "  'reason',\n",
       "  'combo',\n",
       "  'truly',\n",
       "  'worked',\n",
       "  'darn',\n",
       "  'tasty',\n",
       "  'egg',\n",
       "  'runny',\n",
       "  'still',\n",
       "  'added',\n",
       "  'special',\n",
       "  'flavor',\n",
       "  'initially',\n",
       "  'forgotten',\n",
       "  'burger',\n",
       "  'arrived',\n",
       "  'table',\n",
       "  'quickly',\n",
       "  'brought',\n",
       "  'back',\n",
       "  'also',\n",
       "  'ordered',\n",
       "  'sweet',\n",
       "  'potato',\n",
       "  'smashfries',\n",
       "  'concept',\n",
       "  'added',\n",
       "  'spice',\n",
       "  'great',\n",
       "  'fry',\n",
       "  'sweet',\n",
       "  'potato',\n",
       "  'fry',\n",
       "  'looked',\n",
       "  'double',\n",
       "  'fried',\n",
       "  'completely',\n",
       "  'different',\n",
       "  'regular',\n",
       "  'fry',\n",
       "  'friend',\n",
       "  'also',\n",
       "  'bite',\n",
       "  'tasted',\n",
       "  'like',\n",
       "  'soaked',\n",
       "  'oil',\n",
       "  'oozy',\n",
       "  'eat',\n",
       "  'much',\n",
       "  'fry',\n",
       "  'quite',\n",
       "  'expensive',\n",
       "  'especially',\n",
       "  'add',\n",
       "  'ons',\n",
       "  'small',\n",
       "  'burger',\n",
       "  'right',\n",
       "  'size',\n",
       "  'clean',\n",
       "  'slate',\n",
       "  'would',\n",
       "  'return',\n",
       "  'specific',\n",
       "  'combination',\n",
       "  'deliciousness'],\n",
       " ['start',\n",
       "  'finish',\n",
       "  'ongoing',\n",
       "  'roof',\n",
       "  'leak',\n",
       "  'coming',\n",
       "  'old',\n",
       "  'unit',\n",
       "  'sun',\n",
       "  'country',\n",
       "  'pulled',\n",
       "  'old',\n",
       "  'unit',\n",
       "  'found',\n",
       "  'plywood',\n",
       "  'severly',\n",
       "  'damaged',\n",
       "  'could',\n",
       "  'install',\n",
       "  'new',\n",
       "  'unit',\n",
       "  'got',\n",
       "  'roof',\n",
       "  'repaired',\n",
       "  'worked',\n",
       "  'well',\n",
       "  'roofer',\n",
       "  'got',\n",
       "  'job',\n",
       "  'done',\n",
       "  'next',\n",
       "  'day',\n",
       "  'highly',\n",
       "  'recommend',\n",
       "  'sale',\n",
       "  'rep',\n",
       "  'came',\n",
       "  'estimate',\n",
       "  'office',\n",
       "  'staff',\n",
       "  'crew',\n",
       "  'uniform',\n",
       "  'polite',\n",
       "  'cleaned',\n",
       "  'cheapest',\n",
       "  'near',\n",
       "  'highest',\n",
       "  'estimate',\n",
       "  'top',\n",
       "  'include',\n",
       "  'three',\n",
       "  'year',\n",
       "  'twice',\n",
       "  'year',\n",
       "  'service',\n",
       "  'agreement',\n",
       "  'purchase']]"
      ]
     },
     "execution_count": 63,
     "metadata": {},
     "output_type": "execute_result"
    }
   ],
   "source": [
    "processed_review_rdd.take(5)"
   ]
  },
  {
   "cell_type": "code",
   "execution_count": 48,
   "metadata": {},
   "outputs": [],
   "source": [
    "summarized_review_rdd = processed_review_rdd.map(text_summarize)"
   ]
  },
  {
   "cell_type": "code",
   "execution_count": 49,
   "metadata": {},
   "outputs": [
    {
     "data": {
      "text/plain": [
       "['place cleaner cheaper mexican market nice market near carne asada good marinated chicken also delicious',\n",
       " 'store always one employee whose always busy helping incoming customer sad customer service exist anymore pretty ridiculous take minute seen ridiculous',\n",
       " 'service friendly ordered donut sandwich pumpkin pie ice cream delicious',\n",
       " 'two trip think alright since first opened radar nearby option work colleague lunchmate suggested went burger great ordered small burger classic egg bun topped grilled onion fresh jalepenos fried egg avocado goat cheese reason combo truly worked darn tasty egg runny still added special flavor initially forgotten burger arrived table quickly brought back also ordered sweet potato smashfries concept added spice great fry sweet potato fry looked double fried completely different regular fry friend also bite tasted like soaked oil oozy eat much fry quite expensive especially add ons small burger right size clean slate would return specific combination deliciousness',\n",
       " 'start finish ongoing roof leak coming old unit sun country pulled old unit found plywood severly damaged could install new unit got roof repaired worked well roofer got job done next day highly recommend sale rep came estimate office staff crew uniform polite cleaned cheapest near highest estimate top include three year twice year service agreement purchase',\n",
       " 'gave place second chance redeemed service lot better food take forever chalk issue first trip growing pain',\n",
       " 'twice since opened visit turned suck limited menu without favorite failed badly trip fairly certain wo back',\n",
       " 'really good food miso spicy burger delicious lot option menu ranging sushi clever burger',\n",
       " 'came lunch church one sunday quite surprised wait table meaning come quite time neglected pad kee mao lunch special come chicken pleasantly surprised portion size enough lunch bring leftover home enough left breakfast snack pad kee mao served piping hot really make difference chicken tender decent amount actually tasted like chicken veggie crisp fresh pleased lunch choice brother khao soi beef beef something like presented beautifully load crispies top definitely instagram worthy coconut curry broth delightufl beef brisket surprisingly tender raw onion bit coleslaw cut richness curry nice touch crispies definitely added crunch dish also tasty order dish heartbeat also definitely come hopefully soon',\n",
       " 'love coming nearby convenient read review patron opinion extra sensitive everyone friendly attentive tweety amazing craft always booked make sure call make appointment price moderately priced sure go somewhere else get cheap get pay know mean regular set nail like go gel last longer done right spa pedicure point hot stone mixed massaging really relax bottom line gone place faithful place much better built relationship owner worker well know like like go crappy review others posted need go open mind good personality ability take joke ultimate lady time']"
      ]
     },
     "execution_count": 49,
     "metadata": {},
     "output_type": "execute_result"
    }
   ],
   "source": [
    "summarized_review_rdd.take(10)"
   ]
  },
  {
   "cell_type": "code",
   "execution_count": 51,
   "metadata": {},
   "outputs": [
    {
     "data": {
      "text/plain": [
       "['The place is cleaner and cheaper than other Mexican markets.',\n",
       " 'This store always has ONE employee whose always busy helping the incoming customers.',\n",
       " 'Service was very friendly!',\n",
       " 'The concept of the added spices is great on fries, but the sweet potato fries looked double fried, completely different than the regular fries my friend had.',\n",
       " 'A+ from start to finish!',\n",
       " 'Gave the place a second chance.',\n",
       " 'We have been twice since they opened.',\n",
       " 'Really good food.',\n",
       " 'The chicken was tender, and there was a decent amount of it.',\n",
       " 'Regular set of nails are like $25, but go for the gel $40...they last longer and they are done RIGHT!!']"
      ]
     },
     "execution_count": 51,
     "metadata": {},
     "output_type": "execute_result"
    }
   ],
   "source": [
    "reviews_rdd.map(text_summarize).take(10)"
   ]
  },
  {
   "cell_type": "code",
   "execution_count": 54,
   "metadata": {},
   "outputs": [
    {
     "data": {
      "text/plain": [
       "[{'neg': 0.0, 'neu': 0.693, 'pos': 0.307, 'compound': 0.8779},\n",
       " {'neg': 0.153, 'neu': 0.725, 'pos': 0.122, 'compound': -0.3331},\n",
       " {'neg': 0.0, 'neu': 0.607, 'pos': 0.393, 'compound': 0.8306},\n",
       " {'neg': 0.011, 'neu': 0.805, 'pos': 0.184, 'compound': 0.9893},\n",
       " {'neg': 0.052, 'neu': 0.863, 'pos': 0.085, 'compound': 0.6225},\n",
       " {'neg': 0.069, 'neu': 0.69, 'pos': 0.241, 'compound': 0.7163},\n",
       " {'neg': 0.246, 'neu': 0.659, 'pos': 0.095, 'compound': -0.8305},\n",
       " {'neg': 0.0, 'neu': 0.618, 'pos': 0.382, 'compound': 0.8718},\n",
       " {'neg': 0.028, 'neu': 0.731, 'pos': 0.241, 'compound': 0.9951},\n",
       " {'neg': 0.028, 'neu': 0.771, 'pos': 0.201, 'compound': 0.9881}]"
      ]
     },
     "execution_count": 54,
     "metadata": {},
     "output_type": "execute_result"
    }
   ],
   "source": [
    "reviews_rdd.map(sentiment_score).take(10)"
   ]
  },
  {
   "cell_type": "code",
   "execution_count": 81,
   "metadata": {},
   "outputs": [
    {
     "data": {
      "text/plain": [
       "[(0, '0.034*\"unit\" + 0.025*\"old\" + 0.024*\"got\"'),\n",
       " (1, '0.006*\"pumpkin\" + 0.006*\"delicious\" + 0.006*\"near\"'),\n",
       " (2, '0.041*\"delicious\" + 0.041*\"donut\" + 0.041*\"ordered\"'),\n",
       " (3, '0.027*\"fry\" + 0.026*\"burger\" + 0.019*\"egg\"'),\n",
       " (4, '0.020*\"burger\" + 0.020*\"fry\" + 0.014*\"unit\"'),\n",
       " (5, '0.032*\"unit\" + 0.026*\"estimate\" + 0.026*\"year\"'),\n",
       " (6, '0.009*\"unit\" + 0.008*\"got\" + 0.008*\"old\"'),\n",
       " (7, '0.028*\"fry\" + 0.026*\"burger\" + 0.023*\"egg\"'),\n",
       " (8, '0.040*\"always\" + 0.040*\"customer\" + 0.040*\"market\"'),\n",
       " (9, '0.027*\"burger\" + 0.026*\"fry\" + 0.021*\"egg\"')]"
      ]
     },
     "execution_count": 81,
     "metadata": {},
     "output_type": "execute_result"
    }
   ],
   "source": [
    "import gensim\n",
    "from gensim import corpora,models\n",
    "from gensim.models import LdaModel, LsiModel\n",
    "dictionary = corpora.Dictionary(lst1)\n",
    "corpus = [dictionary.doc2bow(tokens) for tokens in lst1]\n",
    "lda = models.LdaModel(corpus, id2word=dictionary, num_topics=10)\n",
    "lda.print_topics(num_words=3)"
   ]
  },
  {
   "cell_type": "code",
   "execution_count": 86,
   "metadata": {},
   "outputs": [
    {
     "data": {
      "text/plain": [
       "[(0,\n",
       "  '0.006*\"service\" + 0.006*\"pumpkin\" + 0.006*\"market\" + 0.006*\"delicious\" + 0.006*\"ordered\" + 0.006*\"donut\" + 0.006*\"customer\" + 0.006*\"ice\" + 0.006*\"sandwich\" + 0.006*\"cheaper\"'),\n",
       " (1,\n",
       "  '0.037*\"unit\" + 0.026*\"roof\" + 0.025*\"old\" + 0.025*\"year\" + 0.023*\"got\" + 0.022*\"estimate\" + 0.016*\"worked\" + 0.015*\"came\" + 0.015*\"near\" + 0.015*\"roofer\"'),\n",
       " (2,\n",
       "  '0.034*\"friendly\" + 0.032*\"pumpkin\" + 0.032*\"ice\" + 0.031*\"cream\" + 0.030*\"pie\" + 0.030*\"sandwich\" + 0.029*\"service\" + 0.029*\"ordered\" + 0.029*\"donut\" + 0.029*\"delicious\"'),\n",
       " (3,\n",
       "  '0.055*\"market\" + 0.032*\"also\" + 0.029*\"delicious\" + 0.029*\"good\" + 0.029*\"near\" + 0.029*\"cleaner\" + 0.029*\"place\" + 0.029*\"marinated\" + 0.029*\"nice\" + 0.029*\"chicken\"'),\n",
       " (4,\n",
       "  '0.024*\"burger\" + 0.020*\"ordered\" + 0.020*\"fry\" + 0.019*\"egg\" + 0.013*\"service\" + 0.013*\"added\" + 0.012*\"sweet\" + 0.011*\"small\" + 0.011*\"delicious\" + 0.011*\"donut\"'),\n",
       " (5,\n",
       "  '0.013*\"fry\" + 0.012*\"burger\" + 0.011*\"egg\" + 0.009*\"added\" + 0.009*\"sweet\" + 0.009*\"also\" + 0.008*\"ordered\" + 0.008*\"small\" + 0.008*\"potato\" + 0.008*\"great\"'),\n",
       " (6,\n",
       "  '0.006*\"egg\" + 0.006*\"fry\" + 0.006*\"burger\" + 0.006*\"also\" + 0.006*\"fried\" + 0.006*\"small\" + 0.006*\"potato\" + 0.006*\"sweet\" + 0.006*\"great\" + 0.006*\"ordered\"'),\n",
       " (7,\n",
       "  '0.026*\"fry\" + 0.025*\"burger\" + 0.020*\"egg\" + 0.019*\"also\" + 0.017*\"ordered\" + 0.016*\"fried\" + 0.016*\"sweet\" + 0.016*\"small\" + 0.015*\"potato\" + 0.014*\"added\"'),\n",
       " (8,\n",
       "  '0.031*\"customer\" + 0.031*\"always\" + 0.031*\"ridiculous\" + 0.022*\"fry\" + 0.022*\"burger\" + 0.016*\"service\" + 0.016*\"take\" + 0.016*\"employee\" + 0.016*\"minute\" + 0.016*\"busy\"'),\n",
       " (9,\n",
       "  '0.030*\"unit\" + 0.025*\"estimate\" + 0.024*\"got\" + 0.022*\"year\" + 0.020*\"old\" + 0.020*\"roof\" + 0.016*\"office\" + 0.015*\"start\" + 0.014*\"day\" + 0.014*\"polite\"')]"
      ]
     },
     "execution_count": 86,
     "metadata": {},
     "output_type": "execute_result"
    }
   ],
   "source": [
    "import gensim\n",
    "from gensim import corpora,models\n",
    "from gensim.models import LdaModel, LsiModel\n",
    "dictionary = corpora.Dictionary(lst1)\n",
    "corpus = [dictionary.doc2bow(tokens) for tokens in lst1]\n",
    "lda = models.LdaModel(corpus, id2word=dictionary, num_topics=10)\n",
    "lda.print_topics(10)"
   ]
  },
  {
   "cell_type": "code",
   "execution_count": 88,
   "metadata": {},
   "outputs": [],
   "source": [
    "# #x必须是list of tokens\n",
    "# def get_topic(x):\n",
    "#     import gensim\n",
    "#     from gensim import corpora,models\n",
    "#     from gensim.models import LdaModel, LsiModel\n",
    "#     dictionary = corpora.Dictionary(x)\n",
    "#     corpus = [dictionary.doc2bow(tokens) for tokens in x]\n",
    "#     lda = models.LdaModel(corpus, id2word=dictionary, num_topics=10)\n",
    "#     lda.print_topics(10)"
   ]
  },
  {
   "cell_type": "code",
   "execution_count": 95,
   "metadata": {},
   "outputs": [],
   "source": [
    "#topic modeling LDA"
   ]
  },
  {
   "cell_type": "code",
   "execution_count": 98,
   "metadata": {},
   "outputs": [
    {
     "data": {
      "text/plain": [
       "[\"The place is cleaner and cheaper than other Mexican markets. It's nice to have a market near me. The carne asada is good and the marinated chicken is also delicious.\",\n",
       " \"This store always has ONE employee whose always busy helping the incoming customers. It's sad that CUSTOMER SERVICE does not exist anymore. This is pretty ridiculous that it takes 30/45 minutes just to be seen... RIDICULOUS!!!!\",\n",
       " 'Service was very friendly! Ordered the donut sandwich with pumpkin pie ice cream. Delicious!',\n",
       " \"After two trips here, I think it is alright.  I haven't been here since they first opened, and it was not on my radar for nearby options at work.  My colleague and lunchmate suggested it, and off we went.\\n\\nThe burger itself was great.  I ordered a small make-my-own burger on classic egg bun, topped with grilled onions, fresh jalepenos, fried egg, avocado, and goat cheese.  For some reason, this combo truly worked.  It was darn tasty.  The egg was not runny at all, but it still added a special flavor.  It was initially forgotten when my burger arrived at the table, but was quickly brought back.\\n\\nI also ordered the sweet potato smashfries.  The concept of the added spices is great on fries, but the sweet potato fries looked double fried, completely different than the regular fries my friend had.  Also, each bite tasted like soaked in oil - and it was oozy.  I did not eat much of the fries.\\n\\nIt is quite expensive (especially with my add ons) but the small burger is the right size and as a clean slate is under $4.  I would return for my specific combination of deliciousness.\",\n",
       " \"A+ from start to finish! I had an ongoing roof leak that was coming from under my old a/C unit. When Sun Country pulled the old unit they found some of the plywood was severly damaged and they couldn't install new unit until I got roof repaired. They worked well with my roofer and got the job done the next day. I highly recommend them. From sales rep that came out to do estimate, to the office staff, and the crew in uniform, very polite, and cleaned up after themselves. They were not the cheapest but no where near the highest estimate. And to top it off, the include a three year  (twice a year) service agreement with purchase!\"]"
      ]
     },
     "execution_count": 98,
     "metadata": {},
     "output_type": "execute_result"
    }
   ],
   "source": [
    "reviews_rdd.take(5)"
   ]
  },
  {
   "cell_type": "code",
   "execution_count": 99,
   "metadata": {},
   "outputs": [],
   "source": [
    "from pyspark.mllib.linalg import Vector, Vectors\n",
    "from pyspark.mllib.clustering import LDA, LDAModel\n",
    "from nltk.corpus import stopwords\n",
    "import re as re\n",
    "from pyspark.ml.feature import CountVectorizer , IDF\n",
    "import pandas as pd"
   ]
  },
  {
   "cell_type": "code",
   "execution_count": 101,
   "metadata": {},
   "outputs": [],
   "source": [
    "reviews_rdd_tm = test_tip_review_pair.select(\"review_text\").rdd"
   ]
  },
  {
   "cell_type": "code",
   "execution_count": 102,
   "metadata": {},
   "outputs": [
    {
     "data": {
      "text/plain": [
       "[Row(review_text=\"The place is cleaner and cheaper than other Mexican markets. It's nice to have a market near me. The carne asada is good and the marinated chicken is also delicious.\"),\n",
       " Row(review_text=\"This store always has ONE employee whose always busy helping the incoming customers. It's sad that CUSTOMER SERVICE does not exist anymore. This is pretty ridiculous that it takes 30/45 minutes just to be seen... RIDICULOUS!!!!\"),\n",
       " Row(review_text='Service was very friendly! Ordered the donut sandwich with pumpkin pie ice cream. Delicious!'),\n",
       " Row(review_text=\"After two trips here, I think it is alright.  I haven't been here since they first opened, and it was not on my radar for nearby options at work.  My colleague and lunchmate suggested it, and off we went.\\n\\nThe burger itself was great.  I ordered a small make-my-own burger on classic egg bun, topped with grilled onions, fresh jalepenos, fried egg, avocado, and goat cheese.  For some reason, this combo truly worked.  It was darn tasty.  The egg was not runny at all, but it still added a special flavor.  It was initially forgotten when my burger arrived at the table, but was quickly brought back.\\n\\nI also ordered the sweet potato smashfries.  The concept of the added spices is great on fries, but the sweet potato fries looked double fried, completely different than the regular fries my friend had.  Also, each bite tasted like soaked in oil - and it was oozy.  I did not eat much of the fries.\\n\\nIt is quite expensive (especially with my add ons) but the small burger is the right size and as a clean slate is under $4.  I would return for my specific combination of deliciousness.\"),\n",
       " Row(review_text=\"A+ from start to finish! I had an ongoing roof leak that was coming from under my old a/C unit. When Sun Country pulled the old unit they found some of the plywood was severly damaged and they couldn't install new unit until I got roof repaired. They worked well with my roofer and got the job done the next day. I highly recommend them. From sales rep that came out to do estimate, to the office staff, and the crew in uniform, very polite, and cleaned up after themselves. They were not the cheapest but no where near the highest estimate. And to top it off, the include a three year  (twice a year) service agreement with purchase!\")]"
      ]
     },
     "execution_count": 102,
     "metadata": {},
     "output_type": "execute_result"
    }
   ],
   "source": [
    "reviews_rdd_tm.take(5)"
   ]
  },
  {
   "cell_type": "code",
   "execution_count": 10,
   "metadata": {},
   "outputs": [],
   "source": [
    "import numpy as np\n",
    "import pandas as pd"
   ]
  },
  {
   "cell_type": "code",
   "execution_count": 11,
   "metadata": {},
   "outputs": [],
   "source": [
    "frame = pd.DataFrame(np.random.rand(4,4),index=list('abcd'),columns=list('ABCD'))"
   ]
  },
  {
   "cell_type": "code",
   "execution_count": 12,
   "metadata": {},
   "outputs": [
    {
     "data": {
      "text/html": [
       "<div>\n",
       "<style scoped>\n",
       "    .dataframe tbody tr th:only-of-type {\n",
       "        vertical-align: middle;\n",
       "    }\n",
       "\n",
       "    .dataframe tbody tr th {\n",
       "        vertical-align: top;\n",
       "    }\n",
       "\n",
       "    .dataframe thead th {\n",
       "        text-align: right;\n",
       "    }\n",
       "</style>\n",
       "<table border=\"1\" class=\"dataframe\">\n",
       "  <thead>\n",
       "    <tr style=\"text-align: right;\">\n",
       "      <th></th>\n",
       "      <th>A</th>\n",
       "      <th>B</th>\n",
       "      <th>C</th>\n",
       "      <th>D</th>\n",
       "    </tr>\n",
       "  </thead>\n",
       "  <tbody>\n",
       "    <tr>\n",
       "      <th>a</th>\n",
       "      <td>0.534982</td>\n",
       "      <td>0.576389</td>\n",
       "      <td>0.292281</td>\n",
       "      <td>0.380501</td>\n",
       "    </tr>\n",
       "    <tr>\n",
       "      <th>b</th>\n",
       "      <td>0.643180</td>\n",
       "      <td>0.803119</td>\n",
       "      <td>0.661016</td>\n",
       "      <td>0.421223</td>\n",
       "    </tr>\n",
       "    <tr>\n",
       "      <th>c</th>\n",
       "      <td>0.948646</td>\n",
       "      <td>0.177919</td>\n",
       "      <td>0.794223</td>\n",
       "      <td>0.802567</td>\n",
       "    </tr>\n",
       "    <tr>\n",
       "      <th>d</th>\n",
       "      <td>0.698826</td>\n",
       "      <td>0.178437</td>\n",
       "      <td>0.279386</td>\n",
       "      <td>0.874310</td>\n",
       "    </tr>\n",
       "  </tbody>\n",
       "</table>\n",
       "</div>"
      ],
      "text/plain": [
       "          A         B         C         D\n",
       "a  0.534982  0.576389  0.292281  0.380501\n",
       "b  0.643180  0.803119  0.661016  0.421223\n",
       "c  0.948646  0.177919  0.794223  0.802567\n",
       "d  0.698826  0.178437  0.279386  0.874310"
      ]
     },
     "execution_count": 12,
     "metadata": {},
     "output_type": "execute_result"
    }
   ],
   "source": [
    "frame"
   ]
  },
  {
   "cell_type": "code",
   "execution_count": 13,
   "metadata": {},
   "outputs": [],
   "source": [
    "# frame.loc[a,:].values.nonzero()[0]"
   ]
  },
  {
   "cell_type": "code",
   "execution_count": 20,
   "metadata": {},
   "outputs": [],
   "source": [
    "a = 'a'\n",
    "b = frame.loc[a,:].values.nonzero()[0]"
   ]
  },
  {
   "cell_type": "code",
   "execution_count": 43,
   "metadata": {},
   "outputs": [
    {
     "data": {
      "text/plain": [
       "array([0, 0, 0], dtype=int64)"
      ]
     },
     "execution_count": 43,
     "metadata": {},
     "output_type": "execute_result"
    }
   ],
   "source": [
    "a.nonzero()[0]"
   ]
  },
  {
   "cell_type": "code",
   "execution_count": 49,
   "metadata": {},
   "outputs": [],
   "source": [
    "a = np.array([[1,0.2,0,0.4,0.6,0.1]])"
   ]
  },
  {
   "cell_type": "code",
   "execution_count": 50,
   "metadata": {},
   "outputs": [],
   "source": [
    "least_to_most_sim_indexes = np.argsort(a,axis=1)"
   ]
  },
  {
   "cell_type": "code",
   "execution_count": 51,
   "metadata": {},
   "outputs": [
    {
     "data": {
      "text/plain": [
       "array([[2, 5, 1, 3, 4, 0]], dtype=int64)"
      ]
     },
     "execution_count": 51,
     "metadata": {},
     "output_type": "execute_result"
    }
   ],
   "source": [
    "least_to_most_sim_indexes"
   ]
  },
  {
   "cell_type": "code",
   "execution_count": 54,
   "metadata": {},
   "outputs": [],
   "source": [
    "neighborhoods = least_to_most_sim_indexes[:, -6:]"
   ]
  },
  {
   "cell_type": "code",
   "execution_count": 55,
   "metadata": {},
   "outputs": [
    {
     "data": {
      "text/plain": [
       "array([[2, 5, 1, 3, 4, 0]], dtype=int64)"
      ]
     },
     "execution_count": 55,
     "metadata": {},
     "output_type": "execute_result"
    }
   ],
   "source": [
    "neighborhoods"
   ]
  },
  {
   "cell_type": "code",
   "execution_count": 39,
   "metadata": {},
   "outputs": [
    {
     "data": {
      "text/plain": [
       "array([0., 0., 0., 0., 0., 0., 0., 0., 0., 0.])"
      ]
     },
     "execution_count": 39,
     "metadata": {},
     "output_type": "execute_result"
    }
   ],
   "source": [
    "np.zeros(10)"
   ]
  },
  {
   "cell_type": "code",
   "execution_count": 44,
   "metadata": {},
   "outputs": [],
   "source": [
    "a = np.array([0,0.2,0.5,0.4])"
   ]
  },
  {
   "cell_type": "code",
   "execution_count": 45,
   "metadata": {},
   "outputs": [
    {
     "data": {
      "text/plain": [
       "array([0. , 0.2, 0.5, 0.4])"
      ]
     },
     "execution_count": 45,
     "metadata": {},
     "output_type": "execute_result"
    }
   ],
   "source": [
    "a"
   ]
  },
  {
   "cell_type": "code",
   "execution_count": 46,
   "metadata": {},
   "outputs": [
    {
     "data": {
      "text/plain": [
       "array([1, 2, 3], dtype=int64)"
      ]
     },
     "execution_count": 46,
     "metadata": {},
     "output_type": "execute_result"
    }
   ],
   "source": [
    "a.nonzero()[0]"
   ]
  },
  {
   "cell_type": "code",
   "execution_count": null,
   "metadata": {},
   "outputs": [],
   "source": []
  }
 ],
 "metadata": {
  "kernelspec": {
   "display_name": "Python 3",
   "language": "python",
   "name": "python3"
  },
  "language_info": {
   "codemirror_mode": {
    "name": "ipython",
    "version": 3
   },
   "file_extension": ".py",
   "mimetype": "text/x-python",
   "name": "python",
   "nbconvert_exporter": "python",
   "pygments_lexer": "ipython3",
   "version": "3.6.5"
  }
 },
 "nbformat": 4,
 "nbformat_minor": 2
}
