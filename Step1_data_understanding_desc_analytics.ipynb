{
 "cells": [
  {
   "cell_type": "code",
   "execution_count": null,
   "metadata": {},
   "outputs": [],
   "source": [
    "import pyspark as spark\n",
    "from pyspark import SparkConf, SparkContext\n",
    "from pyspark.sql import SparkSession\n",
    "spark = SparkSession \\\n",
    "    .builder \\\n",
    "    .appName('example')\\\n",
    "    .config('spark.some.config.option','some-value') \\\n",
    "    .getOrCreate()"
   ]
  },
  {
   "cell_type": "code",
   "execution_count": 2,
   "metadata": {},
   "outputs": [],
   "source": [
    "%matplotlib inline\n",
    "import numpy as np\n",
    "import pandas as pd\n",
    "import matplotlib.pyplot as plt\n",
    "plt.style.use(\"seaborn\")"
   ]
  },
  {
   "cell_type": "code",
   "execution_count": 3,
   "metadata": {},
   "outputs": [],
   "source": [
    "business_raw_data = spark.read.json('business.json')"
   ]
  },
  {
   "cell_type": "code",
   "execution_count": 4,
   "metadata": {},
   "outputs": [],
   "source": [
    "check_in_raw_data = spark.read.json('checkin.json')"
   ]
  },
  {
   "cell_type": "code",
   "execution_count": 5,
   "metadata": {},
   "outputs": [],
   "source": [
    "tip_raw_data = spark.read.json('tip.json')"
   ]
  },
  {
   "cell_type": "code",
   "execution_count": 6,
   "metadata": {},
   "outputs": [],
   "source": [
    "review_raw_data = spark.read.json('review.json')"
   ]
  },
  {
   "cell_type": "code",
   "execution_count": 7,
   "metadata": {},
   "outputs": [],
   "source": [
    "user_raw_data = spark.read.json('user.json')"
   ]
  },
  {
   "cell_type": "markdown",
   "metadata": {},
   "source": [
    "1.how many business each city has(show top 20)"
   ]
  },
  {
   "cell_type": "code",
   "execution_count": 8,
   "metadata": {},
   "outputs": [
    {
     "name": "stdout",
     "output_type": "stream",
     "text": [
      "+---------------+-----+\n",
      "|           city|count|\n",
      "+---------------+-----+\n",
      "|      Las Vegas|29370|\n",
      "|        Toronto|18906|\n",
      "|        Phoenix|18766|\n",
      "|      Charlotte| 9509|\n",
      "|     Scottsdale| 8837|\n",
      "|        Calgary| 7736|\n",
      "|     Pittsburgh| 7017|\n",
      "|       Montréal| 6449|\n",
      "|           Mesa| 6080|\n",
      "|      Henderson| 4892|\n",
      "|          Tempe| 4550|\n",
      "|       Chandler| 4309|\n",
      "|      Cleveland| 3605|\n",
      "|       Glendale| 3543|\n",
      "|        Madison| 3494|\n",
      "|        Gilbert| 3462|\n",
      "|    Mississauga| 3112|\n",
      "|         Peoria| 1919|\n",
      "|        Markham| 1766|\n",
      "|North Las Vegas| 1548|\n",
      "+---------------+-----+\n",
      "only showing top 20 rows\n",
      "\n"
     ]
    }
   ],
   "source": [
    "city_count = business_raw_data.groupBy('city').count().orderBy('count', ascending=False)\n",
    "city_count.show()"
   ]
  },
  {
   "cell_type": "code",
   "execution_count": 9,
   "metadata": {},
   "outputs": [
    {
     "data": {
      "text/plain": [
       "<matplotlib.axes._subplots.AxesSubplot at 0x1ea860161d0>"
      ]
     },
     "execution_count": 9,
     "metadata": {},
     "output_type": "execute_result"
    },
    {
     "data": {
      "image/png": "[encoded data removed]",
      "text/plain": [
       "<Figure size 432x288 with 1 Axes>"
      ]
     },
     "metadata": {},
     "output_type": "display_data"
    }
   ],
   "source": [
    "city_count_pd = city_count.toPandas()\n",
    "city_count_pd[:20].plot.bar(x='city', y='count')"
   ]
  },
  {
   "cell_type": "markdown",
   "metadata": {},
   "source": [
    "2. filter data"
   ]
  },
  {
   "cell_type": "code",
   "execution_count": 15,
   "metadata": {},
   "outputs": [],
   "source": [
    "#select city in Canada in top 20 business_count and is open is true \n",
    "business_raw_data.createOrReplaceTempView(\"business_raw_data\")\n",
    "filtered_business_data = spark.sql(\"\"\"SELECT*FROM business_raw_data\n",
    "WHERE (business_raw_data.city = 'Toronto' or business_raw_data.city = 'Montréal' \n",
    "or business_raw_data.city = 'Calgary' \n",
    "or business_raw_data.city = 'Markham' or business_raw_data.city = 'Mississauga') AND is_open = 1\n",
    "\"\"\")"
   ]
  },
  {
   "cell_type": "code",
   "execution_count": 16,
   "metadata": {},
   "outputs": [],
   "source": [
    "#select review in 2018&2019 \n",
    "review_raw_data.createOrReplaceTempView(\"review_raw_data\")\n",
    "filtered_review_data = spark.sql(\"\"\"SELECT*FROM review_raw_data\n",
    "WHERE date like '2018%' or date like '2019%'\n",
    "\"\"\")"
   ]
  },
  {
   "cell_type": "code",
   "execution_count": 17,
   "metadata": {},
   "outputs": [
    {
     "data": {
      "text/plain": [
       "pyspark.sql.dataframe.DataFrame"
      ]
     },
     "execution_count": 17,
     "metadata": {},
     "output_type": "execute_result"
    }
   ],
   "source": [
    "type(filtered_business_data)"
   ]
  },
  {
   "cell_type": "code",
   "execution_count": 18,
   "metadata": {},
   "outputs": [
    {
     "data": {
      "text/plain": [
       "pyspark.sql.dataframe.DataFrame"
      ]
     },
     "execution_count": 18,
     "metadata": {},
     "output_type": "execute_result"
    }
   ],
   "source": [
    "type(business_raw_data)"
   ]
  },
  {
   "cell_type": "code",
   "execution_count": 19,
   "metadata": {},
   "outputs": [
    {
     "name": "stdout",
     "output_type": "stream",
     "text": [
      "+--------------------+----+-------------------+-----+--------------------+-----+--------------------+------+--------------------+\n",
      "|         business_id|cool|               date|funny|           review_id|stars|                text|useful|             user_id|\n",
      "+--------------------+----+-------------------+-----+--------------------+-----+--------------------+------+--------------------+\n",
      "|ikCg8xy5JIg_NGPx-...|   0|2018-01-09 20:56:38|    0|yi0R0Ugj_xUx_Nek0...|  5.0|Went in for a lun...|     0|dacAIZ6fTM6mqwW5u...|\n",
      "|b1b1eb3uo-w561D0Z...|   0|2018-01-30 23:07:38|    0|11a8sVPMUFtaC7_AB...|  1.0|Today was my seco...|     7|ssoyf2_x0EQMed6fg...|\n",
      "|LUN6swQYa4xJKaM_U...|   0|2018-04-27 20:25:26|    0|qlXw1JQ0UodW7qrmV...|  4.0|Michael from Red ...|     0|bAhqAPoWaZYcyYi7b...|\n",
      "|5OZlLXjU0FXUbrw8S...|   0|2018-02-01 19:01:16|    0|vBRxlgkpDTXjWiYBp...|  1.0|They keep there a...|     0|wNyiw6GfVfn5Kphqm...|\n",
      "|wJj1EwYcXHdvA9zKq...|   0|2018-10-04 11:20:42|    0|NqYSX93Amv4sd5pPP...|  5.0|I called the numb...|     0|zFYFuufYWQSPj0r5l...|\n",
      "+--------------------+----+-------------------+-----+--------------------+-----+--------------------+------+--------------------+\n",
      "only showing top 5 rows\n",
      "\n"
     ]
    }
   ],
   "source": [
    "filtered_review_data.show(5)"
   ]
  },
  {
   "cell_type": "code",
   "execution_count": 20,
   "metadata": {},
   "outputs": [
    {
     "data": {
      "text/plain": [
       "1177662"
      ]
     },
     "execution_count": 20,
     "metadata": {},
     "output_type": "execute_result"
    }
   ],
   "source": [
    "filtered_review_data.count()"
   ]
  },
  {
   "cell_type": "code",
   "execution_count": 21,
   "metadata": {},
   "outputs": [
    {
     "data": {
      "text/plain": [
       "6685900"
      ]
     },
     "execution_count": 21,
     "metadata": {},
     "output_type": "execute_result"
    }
   ],
   "source": [
    "review_raw_data.count()"
   ]
  },
  {
   "cell_type": "code",
   "execution_count": 22,
   "metadata": {},
   "outputs": [],
   "source": [
    "#join review and business table\n",
    "filtered_business_data.createOrReplaceTempView(\"filtered_business_data\")\n",
    "filtered_review_data.createOrReplaceTempView(\"filtered_review_data\")\n",
    "business_review_pair = spark.sql(\"\"\"SELECT filtered_business_data.business_id,\n",
    "filtered_business_data.name,filtered_business_data.categories,\n",
    "filtered_business_data.stars as business_star,filtered_business_data.city,\n",
    "filtered_review_data.review_id,filtered_review_data.date,filtered_review_data.user_id,\n",
    "filtered_review_data.text,filtered_review_data.stars as review_star,filtered_review_data.cool,\n",
    "filtered_review_data.funny,filtered_review_data.useful\n",
    "FROM filtered_business_data, filtered_review_data\n",
    "WHERE filtered_business_data.business_id = filtered_review_data.business_id\"\"\")"
   ]
  },
  {
   "cell_type": "code",
   "execution_count": 23,
   "metadata": {},
   "outputs": [
    {
     "name": "stdout",
     "output_type": "stream",
     "text": [
      "+--------------------+--------------------+--------------------+-------------+-----------+--------------------+-------------------+--------------------+--------------------+-----------+----+-----+------+\n",
      "|         business_id|                name|          categories|business_star|       city|           review_id|               date|             user_id|                text|review_star|cool|funny|useful|\n",
      "+--------------------+--------------------+--------------------+-------------+-----------+--------------------+-------------------+--------------------+--------------------+-----------+----+-----+------+\n",
      "|-6c_bJblLXUwoWfmY...|Neo-Paws Internat...|Pet Services, Pet...|          2.5|    Toronto|SpJ5FkwIupUvg39oe...|2018-02-20 21:53:01|QzH6uDiJOVStePBuT...|My husband and I ...|        5.0|   0|    0|     1|\n",
      "|-6c_bJblLXUwoWfmY...|Neo-Paws Internat...|Pet Services, Pet...|          2.5|    Toronto|f0bLb6n2qub7ubTdW...|2018-11-13 22:01:49|AFfh2ZLmu9LTNZ-3Q...|Thank god for Neo...|        5.0|   0|    0|     0|\n",
      "|-Gh9a15ijNii-8rnp...|Volvo of Mississauga|Auto Repair, Car ...|          3.5|Mississauga|1UfmHhKEW0-FmuWdc...|2018-04-28 22:15:36|cWYmdasSbsWPCdNZo...|Had a horrible ex...|        1.0|   0|    0|     0|\n",
      "|-r8SvItXXG6_T3mP5...| Western Coffee Shop|Noodles, Food, Ca...|          4.0|    Calgary|EsTNaTQpKHu4J1r9w...|2018-04-28 04:05:44|N5Efb3ow8WdEPYY1H...|Guys. Guys!!! Lis...|        5.0|   0|    0|     0|\n",
      "|-r8SvItXXG6_T3mP5...| Western Coffee Shop|Noodles, Food, Ca...|          4.0|    Calgary|pYuOrzALysZvMLrnt...|2018-09-22 23:25:31|31nz8urmYS2uogLPW...|A go-to breakfast...|        4.0|   0|    0|     0|\n",
      "+--------------------+--------------------+--------------------+-------------+-----------+--------------------+-------------------+--------------------+--------------------+-----------+----+-----+------+\n",
      "only showing top 5 rows\n",
      "\n"
     ]
    }
   ],
   "source": [
    "business_review_pair.show(5)"
   ]
  },
  {
   "cell_type": "code",
   "execution_count": 24,
   "metadata": {},
   "outputs": [
    {
     "data": {
      "text/plain": [
       "128273"
      ]
     },
     "execution_count": 24,
     "metadata": {},
     "output_type": "execute_result"
    }
   ],
   "source": [
    "business_review_pair.count()"
   ]
  },
  {
   "cell_type": "markdown",
   "metadata": {},
   "source": [
    "3. What are the popular restaurant styles in Canada in 2018&2019?"
   ]
  },
  {
   "cell_type": "code",
   "execution_count": 215,
   "metadata": {},
   "outputs": [],
   "source": [
    "from sklearn.feature_extraction.text import CountVectorizer\n",
    "vectorizer = CountVectorizer()\n",
    "corpus = business_review_pair.select('categories')\n",
    "corpus_df = corpus.toPandas()"
   ]
  },
  {
   "cell_type": "code",
   "execution_count": 221,
   "metadata": {},
   "outputs": [],
   "source": [
    "categories = corpus_df['categories'].tolist()\n",
    "categories = [str(i) for i in categories ]\n",
    "X = vectorizer.fit_transform(categories) \n",
    "X = np.sum(X, axis=0)\n",
    "X = np.array(X)[0]\n",
    "cate_label = vectorizer.get_feature_names()"
   ]
  },
  {
   "cell_type": "code",
   "execution_count": 222,
   "metadata": {},
   "outputs": [
    {
     "name": "stdout",
     "output_type": "stream",
     "text": [
      "                                      Label name  Percentage of all labels\n",
      "                       1                     food                 0.074561\n",
      "                       2                     bars                 0.048958\n",
      "                       3                nightlife                 0.025924\n",
      "                       4                      tea                 0.018769\n",
      "                       5                      new                 0.018355\n",
      "                       6                 services                 0.016281\n",
      "                       7                 japanese                 0.016053\n",
      "                       8                breakfast                 0.015231\n",
      "                       9                   brunch                 0.015173\n",
      "                      10                   coffee                 0.014212\n",
      "                      11                 canadian                 0.013724\n",
      "                      12                 american                 0.013321\n",
      "                      13                  chinese                 0.013158\n",
      "                      14                 desserts                 0.012384\n",
      "                      15                    cafes                 0.012092\n",
      "                      16                    event                 0.009546\n",
      "                      17                specialty                 0.008814\n",
      "                      18                     spas                 0.008791\n",
      "                      19                 shopping                 0.008658\n",
      "                      20                    asian                 0.008281\n",
      "                      21               sandwiches                 0.008260\n",
      "                      22                  italian                 0.008192\n",
      "                      23                   fusion                 0.008015\n",
      "                      24                    sushi                 0.007816\n",
      "                      25                   beauty                 0.007592\n",
      "                      26                    pizza                 0.007548\n",
      "                      27                 planning                 0.007432\n",
      "                      28                  burgers                 0.007176\n",
      "                      29              traditional                 0.007153\n",
      "                      30                 bakeries                 0.007153\n"
     ]
    }
   ],
   "source": [
    "top_30_label = [cate_label[i] for i in np.argsort(X)[::-1][1:31]]\n",
    "top_30_percentage = [X[i]/sum(X) for i in np.argsort(X)[::-1][1:31]]\n",
    "print('%48s %25s' % ('Label name', 'Percentage of all labels'))\n",
    "for i in range(30):\n",
    "    print('%24s %24s %24f' % \\\n",
    "          (str(i+1), top_30_label[i], top_30_percentage[i]))"
   ]
  },
  {
   "cell_type": "code",
   "execution_count": 226,
   "metadata": {},
   "outputs": [
    {
     "data": {
      "text/html": [
       "<div>\n",
       "<style scoped>\n",
       "    .dataframe tbody tr th:only-of-type {\n",
       "        vertical-align: middle;\n",
       "    }\n",
       "\n",
       "    .dataframe tbody tr th {\n",
       "        vertical-align: top;\n",
       "    }\n",
       "\n",
       "    .dataframe thead th {\n",
       "        text-align: right;\n",
       "    }\n",
       "</style>\n",
       "<table border=\"1\" class=\"dataframe\">\n",
       "  <thead>\n",
       "    <tr style=\"text-align: right;\">\n",
       "      <th></th>\n",
       "      <th>Food Style</th>\n",
       "      <th>Percentage</th>\n",
       "    </tr>\n",
       "  </thead>\n",
       "  <tbody>\n",
       "    <tr>\n",
       "      <th>1</th>\n",
       "      <td>japanese</td>\n",
       "      <td>0.016053</td>\n",
       "    </tr>\n",
       "    <tr>\n",
       "      <th>2</th>\n",
       "      <td>canadian</td>\n",
       "      <td>0.013724</td>\n",
       "    </tr>\n",
       "    <tr>\n",
       "      <th>3</th>\n",
       "      <td>american</td>\n",
       "      <td>0.013321</td>\n",
       "    </tr>\n",
       "    <tr>\n",
       "      <th>4</th>\n",
       "      <td>chinese</td>\n",
       "      <td>0.013158</td>\n",
       "    </tr>\n",
       "    <tr>\n",
       "      <th>5</th>\n",
       "      <td>asian</td>\n",
       "      <td>0.008281</td>\n",
       "    </tr>\n",
       "    <tr>\n",
       "      <th>6</th>\n",
       "      <td>italian</td>\n",
       "      <td>0.008192</td>\n",
       "    </tr>\n",
       "  </tbody>\n",
       "</table>\n",
       "</div>"
      ],
      "text/plain": [
       "  Food Style  Percentage\n",
       "1   japanese    0.016053\n",
       "2   canadian    0.013724\n",
       "3   american    0.013321\n",
       "4    chinese    0.013158\n",
       "5      asian    0.008281\n",
       "6    italian    0.008192"
      ]
     },
     "execution_count": 226,
     "metadata": {},
     "output_type": "execute_result"
    }
   ],
   "source": [
    "#Mannully Pick out Labels which can represent food style:\n",
    "d = {'Food Style': ['japanese','canadian','american','chinese','asian','italian'], 'Percentage': [0.016053,0.013724,0.013321,0.013158,0.008281,0.008192]}\n",
    "df_food_style_rank = pd.DataFrame(data=d)\n",
    "df_food_style_rank.index = np.arange(1, len(df_food_style_rank) + 1)\n",
    "df_food_style_rank"
   ]
  },
  {
   "cell_type": "markdown",
   "metadata": {},
   "source": [
    "4.What are the top 50 restaurants with most reviews in selected cities in 2018&2019 ?"
   ]
  },
  {
   "cell_type": "code",
   "execution_count": 92,
   "metadata": {},
   "outputs": [],
   "source": [
    "business_review_pair.createOrReplaceTempView(\"business_review_pair\")\n",
    "top_50 = spark.sql(\"\"\"SELECT business_id,count(review_id) as review_count\n",
    "FROM business_review_pair\n",
    "GROUP BY business_id\n",
    "ORDER BY count(review_id) desc\n",
    "limit 50\n",
    "\"\"\")"
   ]
  },
  {
   "cell_type": "code",
   "execution_count": 38,
   "metadata": {},
   "outputs": [
    {
     "data": {
      "text/plain": [
       "[Row(sum(count(review_id))=128273)]"
      ]
     },
     "execution_count": 38,
     "metadata": {},
     "output_type": "execute_result"
    }
   ],
   "source": [
    "#check whether SQL query is correct\n",
    "# top_50 = spark.sql(\"\"\"SELECT name,count(review_id)\n",
    "# FROM business_review_pair\n",
    "# GROUP BY name\n",
    "# ORDER BY count(review_id) desc\n",
    "# \"\"\")\n",
    "# top_50.groupBy().sum().collect()"
   ]
  },
  {
   "cell_type": "code",
   "execution_count": 93,
   "metadata": {},
   "outputs": [],
   "source": [
    "top_50.createOrReplaceTempView(\"top_50\")\n",
    "top_50_name = spark.sql(\"\"\"SELECT top_50.business_id, business_raw_data.name,top_50.review_count\n",
    "FROM top_50 left join business_raw_data on top_50.business_id = business_raw_data.business_id\n",
    "\"\"\")"
   ]
  },
  {
   "cell_type": "code",
   "execution_count": 94,
   "metadata": {},
   "outputs": [
    {
     "data": {
      "text/html": [
       "<div>\n",
       "<style scoped>\n",
       "    .dataframe tbody tr th:only-of-type {\n",
       "        vertical-align: middle;\n",
       "    }\n",
       "\n",
       "    .dataframe tbody tr th {\n",
       "        vertical-align: top;\n",
       "    }\n",
       "\n",
       "    .dataframe thead th {\n",
       "        text-align: right;\n",
       "    }\n",
       "</style>\n",
       "<table border=\"1\" class=\"dataframe\">\n",
       "  <thead>\n",
       "    <tr style=\"text-align: right;\">\n",
       "      <th></th>\n",
       "      <th>business_id</th>\n",
       "      <th>name</th>\n",
       "      <th>review_count</th>\n",
       "    </tr>\n",
       "  </thead>\n",
       "  <tbody>\n",
       "    <tr>\n",
       "      <th>0</th>\n",
       "      <td>r_BrIgzYcwo1NAuG9dLbpg</td>\n",
       "      <td>Pai Northern Thai Kitchen</td>\n",
       "      <td>600</td>\n",
       "    </tr>\n",
       "    <tr>\n",
       "      <th>1</th>\n",
       "      <td>htVvtLIFftBLqzRISjReDw</td>\n",
       "      <td>The Cheesecake Factory</td>\n",
       "      <td>357</td>\n",
       "    </tr>\n",
       "    <tr>\n",
       "      <th>2</th>\n",
       "      <td>yg_A_TpYkJjr1fef0J6QkQ</td>\n",
       "      <td>Konjiki Ramen</td>\n",
       "      <td>345</td>\n",
       "    </tr>\n",
       "    <tr>\n",
       "      <th>3</th>\n",
       "      <td>0W4lkclzZThpx3V65bVgig</td>\n",
       "      <td>Schwartz's</td>\n",
       "      <td>341</td>\n",
       "    </tr>\n",
       "    <tr>\n",
       "      <th>4</th>\n",
       "      <td>5T6kFKFycym_GkhgOiysIw</td>\n",
       "      <td>La Banquise</td>\n",
       "      <td>303</td>\n",
       "    </tr>\n",
       "    <tr>\n",
       "      <th>5</th>\n",
       "      <td>46Ld9Qc9nAx_A0jwclNZiw</td>\n",
       "      <td>Olive &amp; Gourmando</td>\n",
       "      <td>257</td>\n",
       "    </tr>\n",
       "    <tr>\n",
       "      <th>6</th>\n",
       "      <td>_xAJZOKBMPOe47p1MphB2w</td>\n",
       "      <td>Fishman Lobster Clubhouse Restaurant</td>\n",
       "      <td>239</td>\n",
       "    </tr>\n",
       "    <tr>\n",
       "      <th>7</th>\n",
       "      <td>iGEvDk6hsizigmXhDKs2Vg</td>\n",
       "      <td>Seven Lives Tacos Y Mariscos</td>\n",
       "      <td>213</td>\n",
       "    </tr>\n",
       "    <tr>\n",
       "      <th>8</th>\n",
       "      <td>RtUvSWO_UZ8V3Wpj0n077w</td>\n",
       "      <td>KINKA IZAKAYA ORIGINAL</td>\n",
       "      <td>203</td>\n",
       "    </tr>\n",
       "    <tr>\n",
       "      <th>9</th>\n",
       "      <td>J6qWt6XIUmIGFHX5rQJA-w</td>\n",
       "      <td>L'Avenue</td>\n",
       "      <td>190</td>\n",
       "    </tr>\n",
       "    <tr>\n",
       "      <th>10</th>\n",
       "      <td>d4P7boUqiA2pR59jOlzYLA</td>\n",
       "      <td>Assembly Chef's Hall</td>\n",
       "      <td>189</td>\n",
       "    </tr>\n",
       "    <tr>\n",
       "      <th>11</th>\n",
       "      <td>F9tePBgROEAcd8xZqTZUfg</td>\n",
       "      <td>Jollibee</td>\n",
       "      <td>179</td>\n",
       "    </tr>\n",
       "    <tr>\n",
       "      <th>12</th>\n",
       "      <td>kOFDVcnj-8fd3doIpCQ06A</td>\n",
       "      <td>Mildred's Temple Kitchen</td>\n",
       "      <td>167</td>\n",
       "    </tr>\n",
       "    <tr>\n",
       "      <th>13</th>\n",
       "      <td>B70iTJjcPkuYn8ouUewWgw</td>\n",
       "      <td>Gusto 101</td>\n",
       "      <td>165</td>\n",
       "    </tr>\n",
       "    <tr>\n",
       "      <th>14</th>\n",
       "      <td>BrGs6OGqqtKqaLuxoMySBg</td>\n",
       "      <td>Hanabusa Cafe</td>\n",
       "      <td>164</td>\n",
       "    </tr>\n",
       "    <tr>\n",
       "      <th>15</th>\n",
       "      <td>ICFYlS9nwsoAyaiRXMu9tQ</td>\n",
       "      <td>Fuwa Fuwa Japanese Pancakes</td>\n",
       "      <td>161</td>\n",
       "    </tr>\n",
       "    <tr>\n",
       "      <th>16</th>\n",
       "      <td>4FEb2SzmU_l7SCQAbvW5Hg</td>\n",
       "      <td>Azyun Restaurant</td>\n",
       "      <td>161</td>\n",
       "    </tr>\n",
       "    <tr>\n",
       "      <th>17</th>\n",
       "      <td>3U6KnoF3T-xC5wtL-Xc8hQ</td>\n",
       "      <td>Poke Guys</td>\n",
       "      <td>154</td>\n",
       "    </tr>\n",
       "    <tr>\n",
       "      <th>18</th>\n",
       "      <td>uAAWlLdsoUf872F1FKiX1A</td>\n",
       "      <td>Bang Bang Ice Cream and Bakery</td>\n",
       "      <td>153</td>\n",
       "    </tr>\n",
       "    <tr>\n",
       "      <th>19</th>\n",
       "      <td>saijdv-vXJrvsCfvr7SZOw</td>\n",
       "      <td>Katsuya</td>\n",
       "      <td>152</td>\n",
       "    </tr>\n",
       "    <tr>\n",
       "      <th>20</th>\n",
       "      <td>XYIPXJ9parr9FtvvcGI1SA</td>\n",
       "      <td>GB Hand-pulled Noodles</td>\n",
       "      <td>152</td>\n",
       "    </tr>\n",
       "    <tr>\n",
       "      <th>21</th>\n",
       "      <td>-Lgj3gdQZiVngAEc1yALzw</td>\n",
       "      <td>NextDoor Restaurant</td>\n",
       "      <td>147</td>\n",
       "    </tr>\n",
       "    <tr>\n",
       "      <th>22</th>\n",
       "      <td>0a2O150ytxrDjDzXNfRWkA</td>\n",
       "      <td>Miku</td>\n",
       "      <td>146</td>\n",
       "    </tr>\n",
       "    <tr>\n",
       "      <th>23</th>\n",
       "      <td>zFR99jgMi-qzaJXIx8MXHA</td>\n",
       "      <td>Labothéry</td>\n",
       "      <td>145</td>\n",
       "    </tr>\n",
       "    <tr>\n",
       "      <th>24</th>\n",
       "      <td>zgQHtqX0gqMw1nlBZl2VnQ</td>\n",
       "      <td>Momofuku Noodle Bar</td>\n",
       "      <td>144</td>\n",
       "    </tr>\n",
       "    <tr>\n",
       "      <th>25</th>\n",
       "      <td>_HaInUKHqcnPTQcGWNp2Eg</td>\n",
       "      <td>Eggette Hut</td>\n",
       "      <td>142</td>\n",
       "    </tr>\n",
       "    <tr>\n",
       "      <th>26</th>\n",
       "      <td>Yl2TN9c23ZGLUBSD9ks5Uw</td>\n",
       "      <td>Byblos</td>\n",
       "      <td>139</td>\n",
       "    </tr>\n",
       "    <tr>\n",
       "      <th>27</th>\n",
       "      <td>crstB-H5rOfbXhV8pX0e6g</td>\n",
       "      <td>Ramen Isshin</td>\n",
       "      <td>136</td>\n",
       "    </tr>\n",
       "    <tr>\n",
       "      <th>28</th>\n",
       "      <td>YFvnkR2XXeU6Qz9dY4ZaEw</td>\n",
       "      <td>Mr ChiMaek</td>\n",
       "      <td>135</td>\n",
       "    </tr>\n",
       "    <tr>\n",
       "      <th>29</th>\n",
       "      <td>JG9UpsFR6hrqQqsKh_RyaQ</td>\n",
       "      <td>Planta</td>\n",
       "      <td>133</td>\n",
       "    </tr>\n",
       "    <tr>\n",
       "      <th>30</th>\n",
       "      <td>hPXR-Bi8U-uz6TUViqmGpg</td>\n",
       "      <td>Fat Ninja Bite</td>\n",
       "      <td>133</td>\n",
       "    </tr>\n",
       "    <tr>\n",
       "      <th>31</th>\n",
       "      <td>ynmTXY9yJDiNkO4HUmxRSQ</td>\n",
       "      <td>KaKa All You Can Eat</td>\n",
       "      <td>133</td>\n",
       "    </tr>\n",
       "    <tr>\n",
       "      <th>32</th>\n",
       "      <td>mZRKH9ngRY92bI_irrHq6w</td>\n",
       "      <td>Richmond Station</td>\n",
       "      <td>133</td>\n",
       "    </tr>\n",
       "    <tr>\n",
       "      <th>33</th>\n",
       "      <td>-kG0N8sBhBotMbu0KVSPaw</td>\n",
       "      <td>Toronto Pearson International Airport</td>\n",
       "      <td>131</td>\n",
       "    </tr>\n",
       "    <tr>\n",
       "      <th>34</th>\n",
       "      <td>uP3H5bcsiTXM0k0xQhRndg</td>\n",
       "      <td>Le Robin Square</td>\n",
       "      <td>131</td>\n",
       "    </tr>\n",
       "    <tr>\n",
       "      <th>35</th>\n",
       "      <td>F09jtEb9KEph2L7Pbji5QQ</td>\n",
       "      <td>Golden Bubbles</td>\n",
       "      <td>128</td>\n",
       "    </tr>\n",
       "    <tr>\n",
       "      <th>36</th>\n",
       "      <td>G24p1oGGfY3t-m8Z2lPCaQ</td>\n",
       "      <td>Tinuno</td>\n",
       "      <td>127</td>\n",
       "    </tr>\n",
       "    <tr>\n",
       "      <th>37</th>\n",
       "      <td>Qqm3yVcqTbC1IOKu0TG2nQ</td>\n",
       "      <td>Dal Moro's Fresh Pasta To Go</td>\n",
       "      <td>125</td>\n",
       "    </tr>\n",
       "    <tr>\n",
       "      <th>38</th>\n",
       "      <td>YAgoRzc92vC3cHc-RrlSSA</td>\n",
       "      <td>The Pho Restaurant</td>\n",
       "      <td>125</td>\n",
       "    </tr>\n",
       "    <tr>\n",
       "      <th>39</th>\n",
       "      <td>Fx5haZv9PP3E7Ljp-h7B1Q</td>\n",
       "      <td>Eggspectation</td>\n",
       "      <td>123</td>\n",
       "    </tr>\n",
       "    <tr>\n",
       "      <th>40</th>\n",
       "      <td>QGTqGNLZbBA1QD8L_fO9ZA</td>\n",
       "      <td>Kaka All You Can Eat</td>\n",
       "      <td>120</td>\n",
       "    </tr>\n",
       "    <tr>\n",
       "      <th>41</th>\n",
       "      <td>aLcFhMe6DDJ430zelCpd2A</td>\n",
       "      <td>Khao San Road</td>\n",
       "      <td>120</td>\n",
       "    </tr>\n",
       "    <tr>\n",
       "      <th>42</th>\n",
       "      <td>E7eOOXwMC7wwCRywsvNzUA</td>\n",
       "      <td>Congee Queen</td>\n",
       "      <td>119</td>\n",
       "    </tr>\n",
       "    <tr>\n",
       "      <th>43</th>\n",
       "      <td>yY3jNsrpCyKTqQuRuLV8gw</td>\n",
       "      <td>Cactus Club Cafe</td>\n",
       "      <td>117</td>\n",
       "    </tr>\n",
       "    <tr>\n",
       "      <th>44</th>\n",
       "      <td>j28T6ZuP1mLHe3m36COOpQ</td>\n",
       "      <td>DaanGo Cake Lab</td>\n",
       "      <td>116</td>\n",
       "    </tr>\n",
       "    <tr>\n",
       "      <th>45</th>\n",
       "      <td>SKhV8mF40RcsGrJjkuEwvw</td>\n",
       "      <td>Ten Foot Henry</td>\n",
       "      <td>116</td>\n",
       "    </tr>\n",
       "    <tr>\n",
       "      <th>46</th>\n",
       "      <td>2MpSWir6lVaTmJHtLCyP7g</td>\n",
       "      <td>St-Viateur Bagel</td>\n",
       "      <td>115</td>\n",
       "    </tr>\n",
       "    <tr>\n",
       "      <th>47</th>\n",
       "      <td>Itc-dI_qZ696GExH1iAuRQ</td>\n",
       "      <td>Pho Ngoc Yen Restaurant</td>\n",
       "      <td>115</td>\n",
       "    </tr>\n",
       "    <tr>\n",
       "      <th>48</th>\n",
       "      <td>5aeOewSy4RiI8sLLWpeNGA</td>\n",
       "      <td>Pablo Cheesetart Canada</td>\n",
       "      <td>113</td>\n",
       "    </tr>\n",
       "    <tr>\n",
       "      <th>49</th>\n",
       "      <td>mG71gQ5HWl7ut9OCN6NJKA</td>\n",
       "      <td>360 Restaurant</td>\n",
       "      <td>112</td>\n",
       "    </tr>\n",
       "  </tbody>\n",
       "</table>\n",
       "</div>"
      ],
      "text/plain": [
       "               business_id                                   name  \\\n",
       "0   r_BrIgzYcwo1NAuG9dLbpg              Pai Northern Thai Kitchen   \n",
       "1   htVvtLIFftBLqzRISjReDw                 The Cheesecake Factory   \n",
       "2   yg_A_TpYkJjr1fef0J6QkQ                          Konjiki Ramen   \n",
       "3   0W4lkclzZThpx3V65bVgig                             Schwartz's   \n",
       "4   5T6kFKFycym_GkhgOiysIw                            La Banquise   \n",
       "5   46Ld9Qc9nAx_A0jwclNZiw                      Olive & Gourmando   \n",
       "6   _xAJZOKBMPOe47p1MphB2w   Fishman Lobster Clubhouse Restaurant   \n",
       "7   iGEvDk6hsizigmXhDKs2Vg           Seven Lives Tacos Y Mariscos   \n",
       "8   RtUvSWO_UZ8V3Wpj0n077w                 KINKA IZAKAYA ORIGINAL   \n",
       "9   J6qWt6XIUmIGFHX5rQJA-w                               L'Avenue   \n",
       "10  d4P7boUqiA2pR59jOlzYLA                   Assembly Chef's Hall   \n",
       "11  F9tePBgROEAcd8xZqTZUfg                               Jollibee   \n",
       "12  kOFDVcnj-8fd3doIpCQ06A               Mildred's Temple Kitchen   \n",
       "13  B70iTJjcPkuYn8ouUewWgw                              Gusto 101   \n",
       "14  BrGs6OGqqtKqaLuxoMySBg                          Hanabusa Cafe   \n",
       "15  ICFYlS9nwsoAyaiRXMu9tQ            Fuwa Fuwa Japanese Pancakes   \n",
       "16  4FEb2SzmU_l7SCQAbvW5Hg                       Azyun Restaurant   \n",
       "17  3U6KnoF3T-xC5wtL-Xc8hQ                              Poke Guys   \n",
       "18  uAAWlLdsoUf872F1FKiX1A         Bang Bang Ice Cream and Bakery   \n",
       "19  saijdv-vXJrvsCfvr7SZOw                                Katsuya   \n",
       "20  XYIPXJ9parr9FtvvcGI1SA                 GB Hand-pulled Noodles   \n",
       "21  -Lgj3gdQZiVngAEc1yALzw                    NextDoor Restaurant   \n",
       "22  0a2O150ytxrDjDzXNfRWkA                                   Miku   \n",
       "23  zFR99jgMi-qzaJXIx8MXHA                              Labothéry   \n",
       "24  zgQHtqX0gqMw1nlBZl2VnQ                    Momofuku Noodle Bar   \n",
       "25  _HaInUKHqcnPTQcGWNp2Eg                            Eggette Hut   \n",
       "26  Yl2TN9c23ZGLUBSD9ks5Uw                                 Byblos   \n",
       "27  crstB-H5rOfbXhV8pX0e6g                           Ramen Isshin   \n",
       "28  YFvnkR2XXeU6Qz9dY4ZaEw                             Mr ChiMaek   \n",
       "29  JG9UpsFR6hrqQqsKh_RyaQ                                 Planta   \n",
       "30  hPXR-Bi8U-uz6TUViqmGpg                         Fat Ninja Bite   \n",
       "31  ynmTXY9yJDiNkO4HUmxRSQ                   KaKa All You Can Eat   \n",
       "32  mZRKH9ngRY92bI_irrHq6w                       Richmond Station   \n",
       "33  -kG0N8sBhBotMbu0KVSPaw  Toronto Pearson International Airport   \n",
       "34  uP3H5bcsiTXM0k0xQhRndg                        Le Robin Square   \n",
       "35  F09jtEb9KEph2L7Pbji5QQ                         Golden Bubbles   \n",
       "36  G24p1oGGfY3t-m8Z2lPCaQ                                 Tinuno   \n",
       "37  Qqm3yVcqTbC1IOKu0TG2nQ           Dal Moro's Fresh Pasta To Go   \n",
       "38  YAgoRzc92vC3cHc-RrlSSA                     The Pho Restaurant   \n",
       "39  Fx5haZv9PP3E7Ljp-h7B1Q                          Eggspectation   \n",
       "40  QGTqGNLZbBA1QD8L_fO9ZA                   Kaka All You Can Eat   \n",
       "41  aLcFhMe6DDJ430zelCpd2A                          Khao San Road   \n",
       "42  E7eOOXwMC7wwCRywsvNzUA                           Congee Queen   \n",
       "43  yY3jNsrpCyKTqQuRuLV8gw                       Cactus Club Cafe   \n",
       "44  j28T6ZuP1mLHe3m36COOpQ                        DaanGo Cake Lab   \n",
       "45  SKhV8mF40RcsGrJjkuEwvw                         Ten Foot Henry   \n",
       "46  2MpSWir6lVaTmJHtLCyP7g                       St-Viateur Bagel   \n",
       "47  Itc-dI_qZ696GExH1iAuRQ                Pho Ngoc Yen Restaurant   \n",
       "48  5aeOewSy4RiI8sLLWpeNGA                Pablo Cheesetart Canada   \n",
       "49  mG71gQ5HWl7ut9OCN6NJKA                         360 Restaurant   \n",
       "\n",
       "    review_count  \n",
       "0            600  \n",
       "1            357  \n",
       "2            345  \n",
       "3            341  \n",
       "4            303  \n",
       "5            257  \n",
       "6            239  \n",
       "7            213  \n",
       "8            203  \n",
       "9            190  \n",
       "10           189  \n",
       "11           179  \n",
       "12           167  \n",
       "13           165  \n",
       "14           164  \n",
       "15           161  \n",
       "16           161  \n",
       "17           154  \n",
       "18           153  \n",
       "19           152  \n",
       "20           152  \n",
       "21           147  \n",
       "22           146  \n",
       "23           145  \n",
       "24           144  \n",
       "25           142  \n",
       "26           139  \n",
       "27           136  \n",
       "28           135  \n",
       "29           133  \n",
       "30           133  \n",
       "31           133  \n",
       "32           133  \n",
       "33           131  \n",
       "34           131  \n",
       "35           128  \n",
       "36           127  \n",
       "37           125  \n",
       "38           125  \n",
       "39           123  \n",
       "40           120  \n",
       "41           120  \n",
       "42           119  \n",
       "43           117  \n",
       "44           116  \n",
       "45           116  \n",
       "46           115  \n",
       "47           115  \n",
       "48           113  \n",
       "49           112  "
      ]
     },
     "execution_count": 94,
     "metadata": {},
     "output_type": "execute_result"
    }
   ],
   "source": [
    "top_50_pd = top_50_name.toPandas()\n",
    "top_50_pd"
   ]
  },
  {
   "cell_type": "code",
   "execution_count": 95,
   "metadata": {},
   "outputs": [
    {
     "data": {
      "image/png": "[encoded data removed]",
      "text/plain": [
       "<Figure size 720x720 with 1 Axes>"
      ]
     },
     "metadata": {},
     "output_type": "display_data"
    }
   ],
   "source": [
    "name_lst = top_50_pd['name'].tolist()\n",
    "num_list = top_50_pd['review_count'].tolist()\n",
    "plt.figure(figsize=(10,10))\n",
    "y_pos = np.arange(len(name_lst))\n",
    "plt.barh(y_pos,num_list, align='center', alpha = 0.4) \n",
    "plt.yticks(y_pos, name_lst)\n",
    "plt.xlabel('Number of reviews')\n",
    "plt.title('Top 50 resturants with most reviews in selected cities in 2018$2019')\n",
    "plt.gca().invert_yaxis()"
   ]
  },
  {
   "cell_type": "markdown",
   "metadata": {},
   "source": [
    "5.Whether the more reviews means the better quality?"
   ]
  },
  {
   "cell_type": "code",
   "execution_count": 103,
   "metadata": {},
   "outputs": [],
   "source": [
    "top_50_name.createOrReplaceTempView(\"top_50_name\")\n",
    "business_star = spark.sql(\"\"\"SELECT top_50_name.name,top_50_name.business_id,top_50_name.review_count,business_raw_data.stars as business_star\n",
    "FROM top_50_name,business_raw_data \n",
    "WHERE top_50_name.business_id = business_raw_data.business_id\n",
    "\"\"\")"
   ]
  },
  {
   "cell_type": "code",
   "execution_count": 104,
   "metadata": {},
   "outputs": [
    {
     "name": "stdout",
     "output_type": "stream",
     "text": [
      "+--------------------+--------------------+------------+-------------+\n",
      "|                name|         business_id|review_count|business_star|\n",
      "+--------------------+--------------------+------------+-------------+\n",
      "|Pai Northern Thai...|r_BrIgzYcwo1NAuG9...|         600|          4.5|\n",
      "|The Cheesecake Fa...|htVvtLIFftBLqzRIS...|         357|          3.0|\n",
      "|       Konjiki Ramen|yg_A_TpYkJjr1fef0...|         345|          4.0|\n",
      "|          Schwartz's|0W4lkclzZThpx3V65...|         341|          4.0|\n",
      "|         La Banquise|5T6kFKFycym_GkhgO...|         303|          4.0|\n",
      "|   Olive & Gourmando|46Ld9Qc9nAx_A0jwc...|         257|          4.5|\n",
      "|Fishman Lobster C...|_xAJZOKBMPOe47p1M...|         239|          4.0|\n",
      "|Seven Lives Tacos...|iGEvDk6hsizigmXhD...|         213|          4.5|\n",
      "|KINKA IZAKAYA ORI...|RtUvSWO_UZ8V3Wpj0...|         203|          4.0|\n",
      "|            L'Avenue|J6qWt6XIUmIGFHX5r...|         190|          4.5|\n",
      "|Assembly Chef's Hall|d4P7boUqiA2pR59jO...|         189|          4.0|\n",
      "|            Jollibee|F9tePBgROEAcd8xZq...|         179|          3.5|\n",
      "|Mildred's Temple ...|kOFDVcnj-8fd3doIp...|         167|          4.0|\n",
      "|           Gusto 101|B70iTJjcPkuYn8ouU...|         165|          4.0|\n",
      "|       Hanabusa Cafe|BrGs6OGqqtKqaLuxo...|         164|          4.0|\n",
      "|Fuwa Fuwa Japanes...|ICFYlS9nwsoAyaiRX...|         161|          4.0|\n",
      "|    Azyun Restaurant|4FEb2SzmU_l7SCQAb...|         161|          4.0|\n",
      "|           Poke Guys|3U6KnoF3T-xC5wtL-...|         154|          4.0|\n",
      "|Bang Bang Ice Cre...|uAAWlLdsoUf872F1F...|         153|          4.0|\n",
      "|             Katsuya|saijdv-vXJrvsCfvr...|         152|          4.5|\n",
      "+--------------------+--------------------+------------+-------------+\n",
      "only showing top 20 rows\n",
      "\n"
     ]
    }
   ],
   "source": [
    "business_star.show()"
   ]
  },
  {
   "cell_type": "code",
   "execution_count": 108,
   "metadata": {},
   "outputs": [
    {
     "data": {
      "image/png": "[encoded data removed]",
      "text/plain": [
       "<Figure size 720x720 with 1 Axes>"
      ]
     },
     "metadata": {},
     "output_type": "display_data"
    }
   ],
   "source": [
    "business_star_pd = business_star.toPandas()\n",
    "name_lst = business_star_pd['name'].tolist()\n",
    "star_list = business_star_pd['business_star'].tolist()\n",
    "plt.figure(figsize=(10,10))\n",
    "y_pos = np.arange(len(star_list))\n",
    "plt.barh(y_pos,star_list, align='center', alpha = 0.4) \n",
    "plt.yticks(y_pos, name_lst)\n",
    "plt.xlabel('Average stars')\n",
    "plt.title('Average rating for top 50 resturants with most reviews in 2018$2019')\n",
    "plt.gca().invert_yaxis()"
   ]
  },
  {
   "cell_type": "code",
   "execution_count": 174,
   "metadata": {},
   "outputs": [
    {
     "name": "stdout",
     "output_type": "stream",
     "text": [
      "The average rate for all resturants in selected cities is 3.970000.\n",
      "The proportion of top 50 resturants with rate less than 4 is 0.220000.\n",
      "The proportion of top 50 resturants with rate less than 3.5 is 0.100000.\n"
     ]
    }
   ],
   "source": [
    "star_lst = business_star_pd['business_star'].tolist()\n",
    "a = [i for i in star_lst if i < 4.0]\n",
    "b = [i for i in star_lst if i < 3.5]\n",
    "print('The average rate for all resturants in selected cities is %f.' %(np.mean(business_star_pd['business_star'])))\n",
    "print('The proportion of top 50 resturants with rate less than 4 is %f.' %(len(a)/50))\n",
    "print('The proportion of top 50 resturants with rate less than 3.5 is %f.' %(len(b)/50))"
   ]
  },
  {
   "cell_type": "code",
   "execution_count": 187,
   "metadata": {},
   "outputs": [
    {
     "name": "stdout",
     "output_type": "stream",
     "text": [
      "The correlation coefficient between number of reviews and average rating is 0.103572.\n"
     ]
    }
   ],
   "source": [
    "# Check how strong the number of reviews and the average rating are related?\n",
    "review_lst = business_star_pd['review_count'].tolist()\n",
    "review_lst = [float(i) for i in review_lst]\n",
    "star_lst = [float(i) for i in star_lst]\n",
    "from scipy.stats.stats import pearsonr \n",
    "a = np.array(review_lst)\n",
    "b = np.array(star_lst)\n",
    "pearson_co = pearsonr(review_lst,star_lst)[0]\n",
    "print('The correlation coefficient between number of reviews and average rating is %f.' \\\n",
    "      % (pearson_co))"
   ]
  },
  {
   "cell_type": "code",
   "execution_count": null,
   "metadata": {},
   "outputs": [],
   "source": []
  }
 ],
 "metadata": {
  "kernelspec": {
   "display_name": "Python 3",
   "language": "python",
   "name": "python3"
  },
  "language_info": {
   "codemirror_mode": {
    "name": "ipython",
    "version": 3
   },
   "file_extension": ".py",
   "mimetype": "text/x-python",
   "name": "python",
   "nbconvert_exporter": "python",
   "pygments_lexer": "ipython3",
   "version": "3.7.4"
  }
 },
 "nbformat": 4,
 "nbformat_minor": 2
}
